{
 "cells": [
  {
   "cell_type": "code",
   "execution_count": 13,
   "metadata": {},
   "outputs": [],
   "source": [
    "import sys\n",
    "sys.path.append('../../../') # Add the root directory to sys.path"
   ]
  },
  {
   "cell_type": "code",
   "execution_count": 2,
   "metadata": {},
   "outputs": [],
   "source": [
    "import torch\n",
    "from torch import nn\n",
    "from torch.optim.lr_scheduler import OneCycleLR\n",
    "import pandas as pd\n",
    "import numpy as np\n",
    "from tqdm.notebook import tqdm\n",
    "\n",
    "from torchsummary import summary\n",
    "from models.cnn import CNN\n",
    "import matplotlib.pyplot as plt\n",
    "from sklearn.model_selection import KFold"
   ]
  },
  {
   "cell_type": "code",
   "execution_count": 3,
   "metadata": {},
   "outputs": [],
   "source": [
    "data_dir = '../../../data/Gaia DR3/LM_mass.parquet'"
   ]
  },
  {
   "cell_type": "code",
   "execution_count": 4,
   "metadata": {},
   "outputs": [
    {
     "data": {
      "text/html": [
       "<div>\n",
       "<style scoped>\n",
       "    .dataframe tbody tr th:only-of-type {\n",
       "        vertical-align: middle;\n",
       "    }\n",
       "\n",
       "    .dataframe tbody tr th {\n",
       "        vertical-align: top;\n",
       "    }\n",
       "\n",
       "    .dataframe thead th {\n",
       "        text-align: right;\n",
       "    }\n",
       "</style>\n",
       "<table border=\"1\" class=\"dataframe\">\n",
       "  <thead>\n",
       "    <tr style=\"text-align: right;\">\n",
       "      <th></th>\n",
       "      <th>source_id</th>\n",
       "      <th>flux</th>\n",
       "      <th>spectraltype_esphs</th>\n",
       "      <th>mass_flame</th>\n",
       "    </tr>\n",
       "  </thead>\n",
       "  <tbody>\n",
       "    <tr>\n",
       "      <th>0</th>\n",
       "      <td>2263623450631337088</td>\n",
       "      <td>[2.4380569e-15, 2.2388932e-15, 2.0208773e-15, ...</td>\n",
       "      <td>F</td>\n",
       "      <td>1.364876</td>\n",
       "    </tr>\n",
       "    <tr>\n",
       "      <th>1</th>\n",
       "      <td>2263623484991072128</td>\n",
       "      <td>[9.080353e-17, 7.900905e-17, 7.354385e-17, 7.6...</td>\n",
       "      <td>G</td>\n",
       "      <td>0.892899</td>\n",
       "    </tr>\n",
       "    <tr>\n",
       "      <th>2</th>\n",
       "      <td>2263625031179532800</td>\n",
       "      <td>[4.1279026e-17, 3.6907568e-17, 3.8073304e-17, ...</td>\n",
       "      <td>G</td>\n",
       "      <td>0.988900</td>\n",
       "    </tr>\n",
       "    <tr>\n",
       "      <th>3</th>\n",
       "      <td>2263625649654599424</td>\n",
       "      <td>[3.0394444e-17, 2.6702259e-17, 2.3652267e-17, ...</td>\n",
       "      <td>F</td>\n",
       "      <td>1.200995</td>\n",
       "    </tr>\n",
       "    <tr>\n",
       "      <th>4</th>\n",
       "      <td>2263626199410391424</td>\n",
       "      <td>[5.687641e-18, 8.438833e-18, 6.6333053e-18, 4....</td>\n",
       "      <td>K</td>\n",
       "      <td>1.069875</td>\n",
       "    </tr>\n",
       "  </tbody>\n",
       "</table>\n",
       "</div>"
      ],
      "text/plain": [
       "             source_id                                               flux  \\\n",
       "0  2263623450631337088  [2.4380569e-15, 2.2388932e-15, 2.0208773e-15, ...   \n",
       "1  2263623484991072128  [9.080353e-17, 7.900905e-17, 7.354385e-17, 7.6...   \n",
       "2  2263625031179532800  [4.1279026e-17, 3.6907568e-17, 3.8073304e-17, ...   \n",
       "3  2263625649654599424  [3.0394444e-17, 2.6702259e-17, 2.3652267e-17, ...   \n",
       "4  2263626199410391424  [5.687641e-18, 8.438833e-18, 6.6333053e-18, 4....   \n",
       "\n",
       "  spectraltype_esphs  mass_flame  \n",
       "0                  F    1.364876  \n",
       "1                  G    0.892899  \n",
       "2                  G    0.988900  \n",
       "3                  F    1.200995  \n",
       "4                  K    1.069875  "
      ]
     },
     "execution_count": 4,
     "metadata": {},
     "output_type": "execute_result"
    }
   ],
   "source": [
    "data = pd.read_parquet(data_dir)\n",
    "data.head(5)"
   ]
  },
  {
   "cell_type": "code",
   "execution_count": 5,
   "metadata": {},
   "outputs": [
    {
     "data": {
      "text/html": [
       "<div>\n",
       "<style scoped>\n",
       "    .dataframe tbody tr th:only-of-type {\n",
       "        vertical-align: middle;\n",
       "    }\n",
       "\n",
       "    .dataframe tbody tr th {\n",
       "        vertical-align: top;\n",
       "    }\n",
       "\n",
       "    .dataframe thead th {\n",
       "        text-align: right;\n",
       "    }\n",
       "</style>\n",
       "<table border=\"1\" class=\"dataframe\">\n",
       "  <thead>\n",
       "    <tr style=\"text-align: right;\">\n",
       "      <th></th>\n",
       "      <th>source_id</th>\n",
       "      <th>flux</th>\n",
       "      <th>mass_flame</th>\n",
       "    </tr>\n",
       "  </thead>\n",
       "  <tbody>\n",
       "    <tr>\n",
       "      <th>0</th>\n",
       "      <td>2263623450631337088</td>\n",
       "      <td>[2.4380569e-15, 2.2388932e-15, 2.0208773e-15, ...</td>\n",
       "      <td>1.364876</td>\n",
       "    </tr>\n",
       "    <tr>\n",
       "      <th>1</th>\n",
       "      <td>2263623484991072128</td>\n",
       "      <td>[9.080353e-17, 7.900905e-17, 7.354385e-17, 7.6...</td>\n",
       "      <td>0.892899</td>\n",
       "    </tr>\n",
       "    <tr>\n",
       "      <th>2</th>\n",
       "      <td>2263625031179532800</td>\n",
       "      <td>[4.1279026e-17, 3.6907568e-17, 3.8073304e-17, ...</td>\n",
       "      <td>0.988900</td>\n",
       "    </tr>\n",
       "    <tr>\n",
       "      <th>3</th>\n",
       "      <td>2263625649654599424</td>\n",
       "      <td>[3.0394444e-17, 2.6702259e-17, 2.3652267e-17, ...</td>\n",
       "      <td>1.200995</td>\n",
       "    </tr>\n",
       "    <tr>\n",
       "      <th>4</th>\n",
       "      <td>2263626199410391424</td>\n",
       "      <td>[5.687641e-18, 8.438833e-18, 6.6333053e-18, 4....</td>\n",
       "      <td>1.069875</td>\n",
       "    </tr>\n",
       "  </tbody>\n",
       "</table>\n",
       "</div>"
      ],
      "text/plain": [
       "             source_id                                               flux  \\\n",
       "0  2263623450631337088  [2.4380569e-15, 2.2388932e-15, 2.0208773e-15, ...   \n",
       "1  2263623484991072128  [9.080353e-17, 7.900905e-17, 7.354385e-17, 7.6...   \n",
       "2  2263625031179532800  [4.1279026e-17, 3.6907568e-17, 3.8073304e-17, ...   \n",
       "3  2263625649654599424  [3.0394444e-17, 2.6702259e-17, 2.3652267e-17, ...   \n",
       "4  2263626199410391424  [5.687641e-18, 8.438833e-18, 6.6333053e-18, 4....   \n",
       "\n",
       "   mass_flame  \n",
       "0    1.364876  \n",
       "1    0.892899  \n",
       "2    0.988900  \n",
       "3    1.200995  \n",
       "4    1.069875  "
      ]
     },
     "execution_count": 5,
     "metadata": {},
     "output_type": "execute_result"
    }
   ],
   "source": [
    "df = data.drop(columns = ['spectraltype_esphs'])\n",
    "df.head()"
   ]
  },
  {
   "cell_type": "code",
   "execution_count": 6,
   "metadata": {},
   "outputs": [
    {
     "name": "stdout",
     "output_type": "stream",
     "text": [
      "<class 'pandas.core.frame.DataFrame'>\n",
      "RangeIndex: 10000 entries, 0 to 9999\n",
      "Data columns (total 3 columns):\n",
      " #   Column      Non-Null Count  Dtype  \n",
      "---  ------      --------------  -----  \n",
      " 0   source_id   10000 non-null  int64  \n",
      " 1   flux        10000 non-null  object \n",
      " 2   mass_flame  10000 non-null  float64\n",
      "dtypes: float64(1), int64(1), object(1)\n",
      "memory usage: 234.5+ KB\n"
     ]
    }
   ],
   "source": [
    "df.info()"
   ]
  },
  {
   "cell_type": "code",
   "execution_count": 7,
   "metadata": {},
   "outputs": [
    {
     "data": {
      "image/png": "[encoded data removed]",
      "text/plain": [
       "<Figure size 1200x600 with 1 Axes>"
      ]
     },
     "metadata": {},
     "output_type": "display_data"
    }
   ],
   "source": [
    "# rerun this cell to see random different spectra\n",
    "sample_ms = df['flux'].sample(n=1).index\n",
    "flux_ms = df['flux'].iloc[sample_ms].values[0]\n",
    "object_id_ms = df['source_id'].iloc[sample_ms].values[0]\n",
    "\n",
    "plt.figure(figsize=(12, 6))\n",
    "\n",
    "plt.plot(flux_ms)\n",
    "plt.title(f\"Gaia DR3 {object_id_ms}\")\n",
    "plt.xlabel('Wavelength (nm)')\n",
    "plt.ylabel('Magnitude')\n",
    "\n",
    "plt.show()"
   ]
  },
  {
   "cell_type": "code",
   "execution_count": 8,
   "metadata": {},
   "outputs": [
    {
     "name": "stdout",
     "output_type": "stream",
     "text": [
      "Number of total spectral samples: 10000\n",
      "Number of bins in each spectra: 343\n"
     ]
    }
   ],
   "source": [
    "num_samples = df.shape[0]\n",
    "spectrum_width = len(df['flux'][0])\n",
    "\n",
    "print(\"Number of total spectral samples:\", num_samples)\n",
    "print(\"Number of bins in each spectra:\", spectrum_width)"
   ]
  },
  {
   "cell_type": "code",
   "execution_count": 9,
   "metadata": {},
   "outputs": [],
   "source": [
    "X = np.vstack(df['flux'])\n",
    "y = torch.from_numpy(np.vstack(df['mass_flame'])).float()\n",
    "\n",
    "# L2 normalization\n",
    "X = torch.from_numpy(X/np.linalg.norm(X,keepdims=True)).float()"
   ]
  },
  {
   "cell_type": "code",
   "execution_count": 10,
   "metadata": {},
   "outputs": [],
   "source": [
    "def extend_curves(curves):\n",
    "    '''\n",
    "    function to extended loss curves to the same length\n",
    "    '''\n",
    "    max_length = max(len(curve) for curve in curves)\n",
    "    \n",
    "    extended_curves = []\n",
    "    for curve in curves:\n",
    "        last_value = curve[-1]\n",
    "        extended_curve = curve + [last_value] * (max_length - len(curve))\n",
    "        extended_curves.append(extended_curve)\n",
    "    \n",
    "    return np.array(extended_curves)\n",
    "\n",
    "def init_weights(m):\n",
    "    if isinstance(m, nn.Conv1d) or isinstance(m, nn.Linear):\n",
    "        nn.init.kaiming_uniform_(m.weight, nonlinearity='relu')\n",
    "        if m.bias is not None:\n",
    "            nn.init.constant_(m.bias, 0)\n",
    "            \n",
    "def fit_model(model, x_train, y_train, x_val, y_val, prt_steps = 1, verbose=True):\n",
    "    \n",
    "    # initialize weights\n",
    "    model.apply(init_weights)\n",
    "\n",
    "    # hyperparameters\n",
    "    epochs = 200\n",
    "    learning_rate = 1e-4\n",
    "    batch_size = 32\n",
    "    device = 'cuda'\n",
    "    \n",
    "    # early stopping\n",
    "    patience = 10\n",
    "    best_val_loss = float('inf')\n",
    "    patience_counter = 0\n",
    "\n",
    "    # model components\n",
    "    criterion = nn.MSELoss()\n",
    "    optimizer = torch.optim.AdamW(model.parameters(), lr=learning_rate)\n",
    "    \n",
    "    # move everything to gpu\n",
    "    model.to(device)\n",
    "    x_train = x_train.to(device)\n",
    "    y_train = y_train.to(device)\n",
    "    x_val = x_val.to(device)\n",
    "    y_val = y_val.to(device)\n",
    "\n",
    "    # metrics\n",
    "    training_losses, validation_losses = [], []\n",
    "    \n",
    "    # lr cycling\n",
    "    max_lr = 1e-2\n",
    "    steps_per_epoch = (len(x_train) + batch_size - 1) // batch_size\n",
    "    scheduler = OneCycleLR(optimizer, max_lr=max_lr, steps_per_epoch=steps_per_epoch, epochs=epochs)\n",
    "\n",
    "    batch_start = torch.arange(0, len(x_train), batch_size)\n",
    "\n",
    "    for epoch in tqdm(range(epochs), desc='Epochs', dynamic_ncols=True):\n",
    "        \n",
    "        model.train()\n",
    "        running_loss = 0\n",
    "\n",
    "        for start in batch_start:\n",
    "\n",
    "            x_batch = x_train[start:start+batch_size]\n",
    "            y_batch = y_train[start:start+batch_size]\n",
    "            \n",
    "            output = model(x_batch.unsqueeze(1))\n",
    "            loss = criterion(output, y_batch)\n",
    "            \n",
    "            optimizer.zero_grad()\n",
    "            loss.backward()\n",
    "            optimizer.step()\n",
    "            scheduler.step()\n",
    "\n",
    "            running_loss += loss.item() * x_batch.size(0)\n",
    "\n",
    "        train_loss = running_loss / len(x_train)\n",
    "        training_losses.append(train_loss)\n",
    "        if verbose and (epoch+1) % prt_steps == 0:\n",
    "            print(f'Train loss: {train_loss:.4f}', end='\\r')\n",
    "\n",
    "\n",
    "        model.eval()\n",
    "        \n",
    "        with torch.no_grad():\n",
    "            \n",
    "            output = model(x_val.unsqueeze(1))\n",
    "            loss = criterion(output, y_val)\n",
    "            \n",
    "            val_loss = loss.item()\n",
    "        \n",
    "        validation_losses.append(val_loss)\n",
    "        \n",
    "        if verbose and (epoch+1) % prt_steps == 0:\n",
    "            print(f'Train loss: {train_loss:.4f}, Val Loss: {val_loss:.4f}', end='\\r')    \n",
    "        \n",
    "        # Early stopping\n",
    "        if val_loss < best_val_loss:\n",
    "            best_val_loss = val_loss\n",
    "            patience_counter = 0\n",
    "        else:\n",
    "            patience_counter += 1\n",
    "\n",
    "        if patience_counter >= patience:\n",
    "            print(f'\\nEarly stopping at epoch {epoch+1}')\n",
    "            break\n",
    "        \n",
    "    return model, training_losses, validation_losses"
   ]
  },
  {
   "cell_type": "code",
   "execution_count": 11,
   "metadata": {},
   "outputs": [
    {
     "name": "stdout",
     "output_type": "stream",
     "text": [
      "=================================================================\n",
      "Layer (type:depth-idx)                   Param #\n",
      "=================================================================\n",
      "├─Conv1d: 1-1                            64\n",
      "├─Conv1d: 1-2                            1,568\n",
      "├─MaxPool1d: 1-3                         --\n",
      "├─Linear: 1-4                            174,144\n",
      "├─Linear: 1-5                            65\n",
      "=================================================================\n",
      "Total params: 175,841\n",
      "Trainable params: 175,841\n",
      "Non-trainable params: 0\n",
      "=================================================================\n",
      "\n",
      "Fitting fold 1\n"
     ]
    },
    {
     "data": {
      "application/vnd.jupyter.widget-view+json": {
       "model_id": "c7db47fa69e14f8ab750a077ea5f77b2",
       "version_major": 2,
       "version_minor": 0
      },
      "text/plain": [
       "Epochs:   0%|          | 0/200 [00:00<?, ?it/s]"
      ]
     },
     "metadata": {},
     "output_type": "display_data"
    },
    {
     "name": "stdout",
     "output_type": "stream",
     "text": [
      "Train loss: 0.6202, Val Loss: 1.9838\n",
      "Early stopping at epoch 13\n",
      "\n",
      "Fitting fold 2\n"
     ]
    },
    {
     "data": {
      "application/vnd.jupyter.widget-view+json": {
       "model_id": "74222852c3af41d588f43dd88e769432",
       "version_major": 2,
       "version_minor": 0
      },
      "text/plain": [
       "Epochs:   0%|          | 0/200 [00:00<?, ?it/s]"
      ]
     },
     "metadata": {},
     "output_type": "display_data"
    },
    {
     "name": "stdout",
     "output_type": "stream",
     "text": [
      "Train loss: 0.6072, Val Loss: 2.0603\n",
      "Early stopping at epoch 22\n",
      "\n",
      "Fitting fold 3\n"
     ]
    },
    {
     "data": {
      "application/vnd.jupyter.widget-view+json": {
       "model_id": "adda0ffddcf147c58da2273e309727bc",
       "version_major": 2,
       "version_minor": 0
      },
      "text/plain": [
       "Epochs:   0%|          | 0/200 [00:00<?, ?it/s]"
      ]
     },
     "metadata": {},
     "output_type": "display_data"
    },
    {
     "name": "stdout",
     "output_type": "stream",
     "text": [
      "Train loss: 0.6234, Val Loss: 1.1293\n",
      "Early stopping at epoch 19\n",
      "\n",
      "Fitting fold 4\n"
     ]
    },
    {
     "data": {
      "application/vnd.jupyter.widget-view+json": {
       "model_id": "b86ac2dc527042b3a4562bc7c6483a73",
       "version_major": 2,
       "version_minor": 0
      },
      "text/plain": [
       "Epochs:   0%|          | 0/200 [00:00<?, ?it/s]"
      ]
     },
     "metadata": {},
     "output_type": "display_data"
    },
    {
     "name": "stdout",
     "output_type": "stream",
     "text": [
      "Train loss: 0.6084, Val Loss: 2.4254\n",
      "Early stopping at epoch 14\n",
      "\n",
      "Fitting fold 5\n"
     ]
    },
    {
     "data": {
      "application/vnd.jupyter.widget-view+json": {
       "model_id": "5b9c332ce1594f4f91663ea92c914ba9",
       "version_major": 2,
       "version_minor": 0
      },
      "text/plain": [
       "Epochs:   0%|          | 0/200 [00:00<?, ?it/s]"
      ]
     },
     "metadata": {},
     "output_type": "display_data"
    },
    {
     "name": "stdout",
     "output_type": "stream",
     "text": [
      "Train loss: 0.6333, Val Loss: 1.3886\n",
      "Early stopping at epoch 13\n",
      "\n",
      "Fitting fold 6\n"
     ]
    },
    {
     "data": {
      "application/vnd.jupyter.widget-view+json": {
       "model_id": "c1e498f88b2e4a12af0b62f7732bc37b",
       "version_major": 2,
       "version_minor": 0
      },
      "text/plain": [
       "Epochs:   0%|          | 0/200 [00:00<?, ?it/s]"
      ]
     },
     "metadata": {},
     "output_type": "display_data"
    },
    {
     "name": "stdout",
     "output_type": "stream",
     "text": [
      "Train loss: 0.5776, Val Loss: 1.0263\n",
      "Early stopping at epoch 30\n",
      "\n",
      "Fitting fold 7\n"
     ]
    },
    {
     "data": {
      "application/vnd.jupyter.widget-view+json": {
       "model_id": "749b0ff498e0479abf3a5c821d668161",
       "version_major": 2,
       "version_minor": 0
      },
      "text/plain": [
       "Epochs:   0%|          | 0/200 [00:00<?, ?it/s]"
      ]
     },
     "metadata": {},
     "output_type": "display_data"
    },
    {
     "name": "stdout",
     "output_type": "stream",
     "text": [
      "Train loss: 0.5718, Val Loss: 1.1591\n",
      "Early stopping at epoch 14\n",
      "\n",
      "Fitting fold 8\n"
     ]
    },
    {
     "data": {
      "application/vnd.jupyter.widget-view+json": {
       "model_id": "39511aa1fe974312995d7f3025646be5",
       "version_major": 2,
       "version_minor": 0
      },
      "text/plain": [
       "Epochs:   0%|          | 0/200 [00:00<?, ?it/s]"
      ]
     },
     "metadata": {},
     "output_type": "display_data"
    },
    {
     "name": "stdout",
     "output_type": "stream",
     "text": [
      "Train loss: 0.5492, Val Loss: 0.8577\n",
      "Early stopping at epoch 36\n",
      "\n",
      "Fitting fold 9\n"
     ]
    },
    {
     "data": {
      "application/vnd.jupyter.widget-view+json": {
       "model_id": "86e530af80f44f44b04e4548d68d53b9",
       "version_major": 2,
       "version_minor": 0
      },
      "text/plain": [
       "Epochs:   0%|          | 0/200 [00:00<?, ?it/s]"
      ]
     },
     "metadata": {},
     "output_type": "display_data"
    },
    {
     "name": "stdout",
     "output_type": "stream",
     "text": [
      "Train loss: 0.5800, Val Loss: 1.0101\n",
      "Early stopping at epoch 15\n",
      "\n",
      "Fitting fold 10\n"
     ]
    },
    {
     "data": {
      "application/vnd.jupyter.widget-view+json": {
       "model_id": "e3d647d098f14aafa487c91b631cef8f",
       "version_major": 2,
       "version_minor": 0
      },
      "text/plain": [
       "Epochs:   0%|          | 0/200 [00:00<?, ?it/s]"
      ]
     },
     "metadata": {},
     "output_type": "display_data"
    },
    {
     "name": "stdout",
     "output_type": "stream",
     "text": [
      "Train loss: 0.5294, Val Loss: 0.9312\n",
      "Early stopping at epoch 13\n"
     ]
    }
   ],
   "source": [
    "kfold = KFold(n_splits=10)\n",
    "\n",
    "training_losses_foldx, validation_losses_foldx, models = [], [], []\n",
    "\n",
    "model = CNN()\n",
    "summary(model)\n",
    "\n",
    "\n",
    "for fold, (train_idx, val_idx) in enumerate(kfold.split(X, y)):\n",
    "    \n",
    "    print(f\"\\nFitting fold {fold+1}\")\n",
    "\n",
    "    model, tr_loss, val_loss = fit_model(model, X[train_idx], y[train_idx], X[val_idx], y[val_idx], prt_steps=1, verbose=True)\n",
    "    models.append(model)\n",
    "    training_losses_foldx.append(tr_loss)\n",
    "    validation_losses_foldx.append(val_loss)\n",
    "\n",
    "training_losses = np.mean(extend_curves(training_losses_foldx), axis=0)\n",
    "validation_losses = np.mean(extend_curves(validation_losses_foldx), axis=0)"
   ]
  },
  {
   "cell_type": "code",
   "execution_count": 12,
   "metadata": {},
   "outputs": [
    {
     "data": {
      "image/png": "[encoded data removed]",
      "text/plain": [
       "<Figure size 640x480 with 1 Axes>"
      ]
     },
     "metadata": {},
     "output_type": "display_data"
    }
   ],
   "source": [
    "plt.plot(training_losses, label='Training Loss')\n",
    "plt.plot(validation_losses, label='Validation Loss')\n",
    "plt.xlabel('Epochs')\n",
    "plt.ylabel('Loss')\n",
    "plt.title('Training and Validation Loss')\n",
    "plt.legend()\n",
    "\n",
    "plt.tight_layout()\n",
    "plt.show()"
   ]
  }
 ],
 "metadata": {
  "kernelspec": {
   "display_name": ".venv",
   "language": "python",
   "name": "python3"
  },
  "language_info": {
   "codemirror_mode": {
    "name": "ipython",
    "version": 3
   },
   "file_extension": ".py",
   "mimetype": "text/x-python",
   "name": "python",
   "nbconvert_exporter": "python",
   "pygments_lexer": "ipython3",
   "version": "3.10.0"
  }
 },
 "nbformat": 4,
 "nbformat_minor": 2
}
