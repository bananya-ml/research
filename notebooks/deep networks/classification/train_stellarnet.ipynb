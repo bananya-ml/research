{
 "cells": [
  {
   "cell_type": "code",
   "execution_count": 1,
   "metadata": {},
   "outputs": [],
   "source": [
    "import sys\n",
    "sys.path.append('../../../') # Add the root directory to sys.path"
   ]
  },
  {
   "cell_type": "code",
   "execution_count": 2,
   "metadata": {},
   "outputs": [],
   "source": [
    "import torch\n",
    "from torch import nn\n",
    "from torch.optim.lr_scheduler import OneCycleLR\n",
    "import pandas as pd\n",
    "import numpy as np\n",
    "from tqdm.notebook import tqdm\n",
    "\n",
    "from models.stellarnet import StellarNet\n",
    "import matplotlib.pyplot as plt\n",
    "from sklearn.metrics import accuracy_score\n",
    "from sklearn.model_selection import StratifiedKFold\n",
    "from sklearn.utils.class_weight import compute_class_weight\n",
    "from torchsummary import summary"
   ]
  },
  {
   "cell_type": "code",
   "execution_count": 3,
   "metadata": {},
   "outputs": [],
   "source": [
    "data_dir = '../../../data/Gaia DR3/train.parquet'"
   ]
  },
  {
   "cell_type": "code",
   "execution_count": 4,
   "metadata": {},
   "outputs": [
    {
     "data": {
      "text/html": [
       "<div>\n",
       "<style scoped>\n",
       "    .dataframe tbody tr th:only-of-type {\n",
       "        vertical-align: middle;\n",
       "    }\n",
       "\n",
       "    .dataframe tbody tr th {\n",
       "        vertical-align: top;\n",
       "    }\n",
       "\n",
       "    .dataframe thead th {\n",
       "        text-align: right;\n",
       "    }\n",
       "</style>\n",
       "<table border=\"1\" class=\"dataframe\">\n",
       "  <thead>\n",
       "    <tr style=\"text-align: right;\">\n",
       "      <th></th>\n",
       "      <th>source_id</th>\n",
       "      <th>teff_gspphot</th>\n",
       "      <th>logg_gspphot</th>\n",
       "      <th>mh_gspphot</th>\n",
       "      <th>spectraltype_esphs</th>\n",
       "      <th>Cat</th>\n",
       "      <th>flux</th>\n",
       "    </tr>\n",
       "  </thead>\n",
       "  <tbody>\n",
       "    <tr>\n",
       "      <th>0</th>\n",
       "      <td>2264606414026248192</td>\n",
       "      <td>5212.299316</td>\n",
       "      <td>4.4992</td>\n",
       "      <td>-1.2461</td>\n",
       "      <td>G</td>\n",
       "      <td>LM</td>\n",
       "      <td>[2.6257292e-17, 2.8692712e-17, 3.0059525e-17, ...</td>\n",
       "    </tr>\n",
       "    <tr>\n",
       "      <th>1</th>\n",
       "      <td>5242172756378861952</td>\n",
       "      <td>17552.250000</td>\n",
       "      <td>3.4490</td>\n",
       "      <td>0.4213</td>\n",
       "      <td>B</td>\n",
       "      <td>M</td>\n",
       "      <td>[1.8050392e-14, 1.7178296e-14, 1.5548272e-14, ...</td>\n",
       "    </tr>\n",
       "    <tr>\n",
       "      <th>2</th>\n",
       "      <td>2266498879696626944</td>\n",
       "      <td>5810.870605</td>\n",
       "      <td>3.9213</td>\n",
       "      <td>-0.5051</td>\n",
       "      <td>F</td>\n",
       "      <td>LM</td>\n",
       "      <td>[3.292663e-17, 3.039652e-17, 2.9301113e-17, 3....</td>\n",
       "    </tr>\n",
       "    <tr>\n",
       "      <th>3</th>\n",
       "      <td>5337670598285980160</td>\n",
       "      <td>14714.115234</td>\n",
       "      <td>3.8890</td>\n",
       "      <td>-0.2898</td>\n",
       "      <td>B</td>\n",
       "      <td>LM</td>\n",
       "      <td>[1.2267033e-15, 1.2095414e-15, 1.155193e-15, 1...</td>\n",
       "    </tr>\n",
       "    <tr>\n",
       "      <th>4</th>\n",
       "      <td>4063146749806089600</td>\n",
       "      <td>7999.921387</td>\n",
       "      <td>3.1459</td>\n",
       "      <td>-2.2106</td>\n",
       "      <td>B</td>\n",
       "      <td>M</td>\n",
       "      <td>[2.0976588e-14, 2.2193906e-14, 2.1269509e-14, ...</td>\n",
       "    </tr>\n",
       "  </tbody>\n",
       "</table>\n",
       "</div>"
      ],
      "text/plain": [
       "             source_id  teff_gspphot  logg_gspphot  mh_gspphot  \\\n",
       "0  2264606414026248192   5212.299316        4.4992     -1.2461   \n",
       "1  5242172756378861952  17552.250000        3.4490      0.4213   \n",
       "2  2266498879696626944   5810.870605        3.9213     -0.5051   \n",
       "3  5337670598285980160  14714.115234        3.8890     -0.2898   \n",
       "4  4063146749806089600   7999.921387        3.1459     -2.2106   \n",
       "\n",
       "  spectraltype_esphs Cat                                               flux  \n",
       "0                  G  LM  [2.6257292e-17, 2.8692712e-17, 3.0059525e-17, ...  \n",
       "1                  B   M  [1.8050392e-14, 1.7178296e-14, 1.5548272e-14, ...  \n",
       "2                  F  LM  [3.292663e-17, 3.039652e-17, 2.9301113e-17, 3....  \n",
       "3                  B  LM  [1.2267033e-15, 1.2095414e-15, 1.155193e-15, 1...  \n",
       "4                  B   M  [2.0976588e-14, 2.2193906e-14, 2.1269509e-14, ...  "
      ]
     },
     "execution_count": 4,
     "metadata": {},
     "output_type": "execute_result"
    }
   ],
   "source": [
    "data = pd.read_parquet(data_dir)\n",
    "data.head(5)"
   ]
  },
  {
   "cell_type": "code",
   "execution_count": 5,
   "metadata": {},
   "outputs": [
    {
     "data": {
      "text/html": [
       "<div>\n",
       "<style scoped>\n",
       "    .dataframe tbody tr th:only-of-type {\n",
       "        vertical-align: middle;\n",
       "    }\n",
       "\n",
       "    .dataframe tbody tr th {\n",
       "        vertical-align: top;\n",
       "    }\n",
       "\n",
       "    .dataframe thead th {\n",
       "        text-align: right;\n",
       "    }\n",
       "</style>\n",
       "<table border=\"1\" class=\"dataframe\">\n",
       "  <thead>\n",
       "    <tr style=\"text-align: right;\">\n",
       "      <th></th>\n",
       "      <th>source_id</th>\n",
       "      <th>Cat</th>\n",
       "      <th>flux</th>\n",
       "    </tr>\n",
       "  </thead>\n",
       "  <tbody>\n",
       "    <tr>\n",
       "      <th>0</th>\n",
       "      <td>2264606414026248192</td>\n",
       "      <td>LM</td>\n",
       "      <td>[2.6257292e-17, 2.8692712e-17, 3.0059525e-17, ...</td>\n",
       "    </tr>\n",
       "    <tr>\n",
       "      <th>1</th>\n",
       "      <td>5242172756378861952</td>\n",
       "      <td>M</td>\n",
       "      <td>[1.8050392e-14, 1.7178296e-14, 1.5548272e-14, ...</td>\n",
       "    </tr>\n",
       "    <tr>\n",
       "      <th>2</th>\n",
       "      <td>2266498879696626944</td>\n",
       "      <td>LM</td>\n",
       "      <td>[3.292663e-17, 3.039652e-17, 2.9301113e-17, 3....</td>\n",
       "    </tr>\n",
       "    <tr>\n",
       "      <th>3</th>\n",
       "      <td>5337670598285980160</td>\n",
       "      <td>LM</td>\n",
       "      <td>[1.2267033e-15, 1.2095414e-15, 1.155193e-15, 1...</td>\n",
       "    </tr>\n",
       "    <tr>\n",
       "      <th>4</th>\n",
       "      <td>4063146749806089600</td>\n",
       "      <td>M</td>\n",
       "      <td>[2.0976588e-14, 2.2193906e-14, 2.1269509e-14, ...</td>\n",
       "    </tr>\n",
       "  </tbody>\n",
       "</table>\n",
       "</div>"
      ],
      "text/plain": [
       "             source_id Cat                                               flux\n",
       "0  2264606414026248192  LM  [2.6257292e-17, 2.8692712e-17, 3.0059525e-17, ...\n",
       "1  5242172756378861952   M  [1.8050392e-14, 1.7178296e-14, 1.5548272e-14, ...\n",
       "2  2266498879696626944  LM  [3.292663e-17, 3.039652e-17, 2.9301113e-17, 3....\n",
       "3  5337670598285980160  LM  [1.2267033e-15, 1.2095414e-15, 1.155193e-15, 1...\n",
       "4  4063146749806089600   M  [2.0976588e-14, 2.2193906e-14, 2.1269509e-14, ..."
      ]
     },
     "execution_count": 5,
     "metadata": {},
     "output_type": "execute_result"
    }
   ],
   "source": [
    "df = data.drop(columns = ['teff_gspphot', 'logg_gspphot', 'mh_gspphot', 'spectraltype_esphs'])\n",
    "df.head()"
   ]
  },
  {
   "cell_type": "markdown",
   "metadata": {},
   "source": [
    "Normalizing the flux helps our CNN-based model generalize more quickly, but contextual information of the spectrum is lost. We create 2 columns 'min' and 'max' as the minimum and maximum flux density of the spectrum respectively so the model can also learn about the 'position' of our spectra."
   ]
  },
  {
   "cell_type": "code",
   "execution_count": 6,
   "metadata": {},
   "outputs": [],
   "source": [
    "df['min'] = df['flux'].apply(np.min)\n",
    "df['max'] = df['flux'].apply(np.max)"
   ]
  },
  {
   "cell_type": "code",
   "execution_count": 7,
   "metadata": {},
   "outputs": [
    {
     "name": "stdout",
     "output_type": "stream",
     "text": [
      "<class 'pandas.core.frame.DataFrame'>\n",
      "RangeIndex: 14101 entries, 0 to 14100\n",
      "Data columns (total 5 columns):\n",
      " #   Column     Non-Null Count  Dtype  \n",
      "---  ------     --------------  -----  \n",
      " 0   source_id  14101 non-null  int64  \n",
      " 1   Cat        14101 non-null  object \n",
      " 2   flux       14101 non-null  object \n",
      " 3   min        14101 non-null  float32\n",
      " 4   max        14101 non-null  float32\n",
      "dtypes: float32(2), int64(1), object(2)\n",
      "memory usage: 440.8+ KB\n"
     ]
    }
   ],
   "source": [
    "df.info()"
   ]
  },
  {
   "cell_type": "code",
   "execution_count": 8,
   "metadata": {},
   "outputs": [
    {
     "data": {
      "text/html": [
       "<div>\n",
       "<style scoped>\n",
       "    .dataframe tbody tr th:only-of-type {\n",
       "        vertical-align: middle;\n",
       "    }\n",
       "\n",
       "    .dataframe tbody tr th {\n",
       "        vertical-align: top;\n",
       "    }\n",
       "\n",
       "    .dataframe thead th {\n",
       "        text-align: right;\n",
       "    }\n",
       "</style>\n",
       "<table border=\"1\" class=\"dataframe\">\n",
       "  <thead>\n",
       "    <tr style=\"text-align: right;\">\n",
       "      <th></th>\n",
       "      <th>source_id</th>\n",
       "      <th>min</th>\n",
       "      <th>max</th>\n",
       "    </tr>\n",
       "  </thead>\n",
       "  <tbody>\n",
       "    <tr>\n",
       "      <th>count</th>\n",
       "      <td>1.410100e+04</td>\n",
       "      <td>1.410100e+04</td>\n",
       "      <td>1.410100e+04</td>\n",
       "    </tr>\n",
       "    <tr>\n",
       "      <th>mean</th>\n",
       "      <td>3.663812e+18</td>\n",
       "      <td>1.089868e-15</td>\n",
       "      <td>1.784325e-14</td>\n",
       "    </tr>\n",
       "    <tr>\n",
       "      <th>std</th>\n",
       "      <td>1.903869e+18</td>\n",
       "      <td>4.931013e-15</td>\n",
       "      <td>1.091639e-13</td>\n",
       "    </tr>\n",
       "    <tr>\n",
       "      <th>min</th>\n",
       "      <td>6.467984e+16</td>\n",
       "      <td>-3.348769e-15</td>\n",
       "      <td>2.945529e-17</td>\n",
       "    </tr>\n",
       "    <tr>\n",
       "      <th>25%</th>\n",
       "      <td>2.264720e+18</td>\n",
       "      <td>1.332888e-17</td>\n",
       "      <td>6.663737e-17</td>\n",
       "    </tr>\n",
       "    <tr>\n",
       "      <th>50%</th>\n",
       "      <td>2.270947e+18</td>\n",
       "      <td>6.230850e-17</td>\n",
       "      <td>2.725224e-16</td>\n",
       "    </tr>\n",
       "    <tr>\n",
       "      <th>75%</th>\n",
       "      <td>5.912424e+18</td>\n",
       "      <td>4.822063e-16</td>\n",
       "      <td>2.469347e-15</td>\n",
       "    </tr>\n",
       "    <tr>\n",
       "      <th>max</th>\n",
       "      <td>6.914737e+18</td>\n",
       "      <td>1.403235e-13</td>\n",
       "      <td>2.575797e-12</td>\n",
       "    </tr>\n",
       "  </tbody>\n",
       "</table>\n",
       "</div>"
      ],
      "text/plain": [
       "          source_id           min           max\n",
       "count  1.410100e+04  1.410100e+04  1.410100e+04\n",
       "mean   3.663812e+18  1.089868e-15  1.784325e-14\n",
       "std    1.903869e+18  4.931013e-15  1.091639e-13\n",
       "min    6.467984e+16 -3.348769e-15  2.945529e-17\n",
       "25%    2.264720e+18  1.332888e-17  6.663737e-17\n",
       "50%    2.270947e+18  6.230850e-17  2.725224e-16\n",
       "75%    5.912424e+18  4.822063e-16  2.469347e-15\n",
       "max    6.914737e+18  1.403235e-13  2.575797e-12"
      ]
     },
     "execution_count": 8,
     "metadata": {},
     "output_type": "execute_result"
    }
   ],
   "source": [
    "df.describe()"
   ]
  },
  {
   "cell_type": "code",
   "execution_count": null,
   "metadata": {},
   "outputs": [],
   "source": [
    "# rerun this cell to see random examples of different spectra\n",
    "\n",
    "\n",
    "# Random sample from 'M' category (massive star)\n",
    "sample_ms = df[df['Cat'] == 'M'].sample(n=1).index\n",
    "flux_ms = df['flux'].iloc[sample_ms].values[0]\n",
    "object_id_ms = df['source_id'].iloc[sample_ms].values[0]\n",
    "\n",
    "# Random sample from 'LM' category (low-mass star)\n",
    "sample_lm = df[df['Cat'] == 'LM'].sample(n=1).index\n",
    "flux_lm = df['flux'].iloc[sample_lm].values[0]\n",
    "object_id_lm = df['source_id'].iloc[sample_lm].values[0]\n",
    "\n",
    "plt.figure(figsize=(12, 6))\n",
    "\n",
    "# Plot for 'M' category (massive star)\n",
    "plt.subplot(1, 2, 1)\n",
    "plt.plot(flux_ms)\n",
    "plt.title(f\"Massive Star ({object_id_ms})\")\n",
    "plt.xlabel('Wavelength (nm)')\n",
    "plt.ylabel('Magnitude')\n",
    "\n",
    "# Plot for 'LM' category (low-mass star)\n",
    "plt.subplot(1, 2, 2)\n",
    "plt.plot(flux_lm)\n",
    "plt.title(f\"Low-Mass Star ({object_id_lm})\")\n",
    "plt.xlabel('Wavelength (nm)')\n",
    "plt.ylabel('Magnitude')\n",
    "\n",
    "plt.tight_layout()\n",
    "plt.show()\n"
   ]
  },
  {
   "cell_type": "code",
   "execution_count": 10,
   "metadata": {},
   "outputs": [
    {
     "name": "stdout",
     "output_type": "stream",
     "text": [
      "Number of total spectral samples: 14101\n",
      "Number of bins in each spectra: 343\n",
      "In the dataset, we have 8820 spectra for low mass stars and 5281 spectra for high mass stars.\n"
     ]
    }
   ],
   "source": [
    "num_samples = df.shape[0]\n",
    "spectrum_width = len(df['flux'][0])\n",
    "\n",
    "num_samples_lm = df['Cat'].value_counts()['LM']\n",
    "num_samples_m = df['Cat'].value_counts()['M']\n",
    "num_classes = df['Cat'].nunique()\n",
    "\n",
    "print(\"Number of total spectral samples:\", num_samples)\n",
    "print(\"Number of bins in each spectra:\", spectrum_width)\n",
    "print(\"In the dataset, we have\", num_samples_lm, \"spectra for low mass stars and\", num_samples_m, \"spectra for high mass stars.\")"
   ]
  },
  {
   "cell_type": "code",
   "execution_count": 11,
   "metadata": {},
   "outputs": [],
   "source": [
    "spectra = df['flux'].to_numpy()\n",
    "context = df[['max','min']].to_numpy()\n",
    "y = df['Cat'].to_numpy()\n",
    "\n",
    "# encode categories to int\n",
    "y = torch.from_numpy(np.where(y == 'M', 1, np.where(y == 'LM', 0, y)).astype(float))\n",
    "\n",
    "# L2 normalization\n",
    "spectra = torch.from_numpy(np.array([spectrum / np.linalg.norm(spectrum, keepdims=True) for spectrum in spectra])).float()\n",
    "\n",
    "# standardization\n",
    "#spectra = torch.from_numpy(np.array([(spectrum - np.mean(spectrum)) / np.std(spectrum) for spectrum in spectra])).float()\n",
    "\n",
    "context = torch.tensor(context)\n",
    "\n",
    "# combine training data\n",
    "X = torch.cat([spectra,context],1)"
   ]
  },
  {
   "cell_type": "code",
   "execution_count": 12,
   "metadata": {},
   "outputs": [],
   "source": [
    "def extend_curves(curves):\n",
    "    '''\n",
    "    function to extended loss curves to the same length\n",
    "    '''\n",
    "    max_length = max(len(curve) for curve in curves)\n",
    "    \n",
    "    extended_curves = []\n",
    "    for curve in curves:\n",
    "        last_value = curve[-1]\n",
    "        extended_curve = curve + [last_value] * (max_length - len(curve))\n",
    "        extended_curves.append(extended_curve)\n",
    "    \n",
    "    return np.array(extended_curves)\n",
    "\n",
    "def init_weights(m):\n",
    "    if isinstance(m, nn.Conv1d) or isinstance(m, nn.Linear):\n",
    "        nn.init.kaiming_uniform_(m.weight, nonlinearity='relu')\n",
    "        if m.bias is not None:\n",
    "            nn.init.constant_(m.bias, 0)\n",
    "            \n",
    "def fit_model(model, x_train, y_train, x_val=None, y_val=None, prt_steps = 1, verbose=True):\n",
    "    \n",
    "    model.apply(init_weights)\n",
    "\n",
    "    # hyperparameters\n",
    "    epochs = 50\n",
    "    learning_rate = 1e-4\n",
    "    batch_size = 64\n",
    "    device = 'cuda'\n",
    "\n",
    "    # early stopping\n",
    "    patience = 10\n",
    "    best_val_loss = float('inf')\n",
    "    patience_counter = 0\n",
    "    \n",
    "    class_weights = torch.tensor(compute_class_weight(class_weight='balanced',classes=np.unique(y_train), y=y_train.numpy())).to(device)\n",
    "\n",
    "    # model components\n",
    "    criterion = nn.BCEWithLogitsLoss(pos_weight=class_weights[1])\n",
    "    optimizer = torch.optim.AdamW(model.parameters(), lr=learning_rate, weight_decay=0.01)\n",
    "    \n",
    "    # move everything to gpu\n",
    "    model.to(device)\n",
    "    x_train = x_train.to(device)\n",
    "    y_train = y_train.unsqueeze(1).to(device)\n",
    "    x_val = x_val.to(device)\n",
    "    y_val = y_val.unsqueeze(1).to(device)\n",
    "\n",
    "    # metrics\n",
    "    training_losses, validation_losses = [], []\n",
    "    accuracy = []\n",
    "    \n",
    "    # lr cycling\n",
    "    max_lr = 1e-3\n",
    "    steps_per_epoch = (len(x_train) + batch_size - 1) // batch_size\n",
    "    scheduler = OneCycleLR(optimizer, max_lr=max_lr, steps_per_epoch=steps_per_epoch, epochs=epochs)\n",
    "\n",
    "    batch_start = torch.arange(0, len(x_train), batch_size)\n",
    "\n",
    "    t = tqdm(range(epochs), dynamic_ncols=True)\n",
    "\n",
    "    for epoch in t:\n",
    "        t.set_description(f'Epoch {epoch+1}')\n",
    "        \n",
    "        model.train()\n",
    "        running_loss = 0\n",
    "\n",
    "        for start in batch_start:\n",
    "            \n",
    "            x_spectra = x_train[start:start+batch_size,:-2]\n",
    "            x_context = x_train[start:start+batch_size,-2:]\n",
    "        \n",
    "            y_batch = y_train[start:start+batch_size]\n",
    "\n",
    "            output = model(x_spectra.unsqueeze(1), x_context)\n",
    "            loss = criterion(output, y_batch)\n",
    "\n",
    "            optimizer.zero_grad()\n",
    "            loss.backward()\n",
    "            optimizer.step()\n",
    "            scheduler.step()\n",
    "\n",
    "            running_loss += loss.item() * x_spectra.size(0)\n",
    "\n",
    "        train_loss = running_loss / len(x_train)\n",
    "        training_losses.append(train_loss)\n",
    "        if verbose and (epoch+1) % prt_steps == 0:\n",
    "            print(f'Train loss: {train_loss:.4f}', end='\\r')\n",
    "\n",
    "\n",
    "        if x_val is not None and y_val is not None:\n",
    "            model.eval()\n",
    "            preds, labels = [], []\n",
    "\n",
    "            with torch.no_grad():\n",
    "                \n",
    "                x_spectra = x_val[:,:-2]\n",
    "                x_context = x_val[:,-2:]\n",
    "                output = model(x_spectra.unsqueeze(1), x_context)\n",
    "                loss = criterion(output, y_val)\n",
    "\n",
    "                probs = torch.sigmoid(output)\n",
    "                pred = torch.round(probs).cpu().numpy().astype(float)  # pred: [batch_size]\n",
    "                \n",
    "                preds.extend(pred)\n",
    "                labels.extend(y_val.cpu().numpy())\n",
    "                \n",
    "                val_loss = loss.item()\n",
    "            \n",
    "            epoch_acc = accuracy_score(labels, preds)\n",
    "            validation_losses.append(val_loss)\n",
    "            accuracy.append(epoch_acc)\n",
    "            if verbose and (epoch+1) % prt_steps == 0:\n",
    "                print(f'Train loss: {train_loss:.4f}, Val Loss: {val_loss:.4f}, Accuracy: {epoch_acc:.4f}', end='\\r')\n",
    "\n",
    "            # Early stopping\n",
    "            if val_loss < best_val_loss:\n",
    "                best_val_loss = val_loss\n",
    "                patience_counter = 0\n",
    "            else:\n",
    "                patience_counter += 1\n",
    "\n",
    "            if patience_counter >= patience:\n",
    "                print(f'\\nEarly stopping at epoch {epoch+1}')\n",
    "                break\n",
    "\n",
    "    return model, training_losses, validation_losses, accuracy"
   ]
  },
  {
   "cell_type": "code",
   "execution_count": 13,
   "metadata": {},
   "outputs": [
    {
     "name": "stdout",
     "output_type": "stream",
     "text": [
      "=================================================================\n",
      "Layer (type:depth-idx)                   Param #\n",
      "=================================================================\n",
      "├─Conv1d: 1-1                            256\n",
      "├─Conv1d: 1-2                            24,704\n",
      "├─Conv1d: 1-3                            98,560\n",
      "├─MaxPool1d: 1-4                         --\n",
      "├─Linear: 1-5                            1,376,384\n",
      "├─Linear: 1-6                            8,256\n",
      "├─Linear: 1-7                            48\n",
      "├─LayerNorm: 1-8                         32\n",
      "├─Linear: 1-9                            544\n",
      "├─Linear: 1-10                           6,208\n",
      "├─Linear: 1-11                           65\n",
      "=================================================================\n",
      "Total params: 1,515,057\n",
      "Trainable params: 1,515,057\n",
      "Non-trainable params: 0\n",
      "=================================================================\n",
      "\n",
      "Fitting fold 1\n"
     ]
    },
    {
     "data": {
      "application/vnd.jupyter.widget-view+json": {
       "model_id": "447ac43d4fcb409eaee43487b33b9496",
       "version_major": 2,
       "version_minor": 0
      },
      "text/plain": [
       "  0%|          | 0/50 [00:00<?, ?it/s]"
      ]
     },
     "metadata": {},
     "output_type": "display_data"
    },
    {
     "name": "stdout",
     "output_type": "stream",
     "text": [
      "Train loss: 0.0787, Val Loss: 0.1305, Accuracy: 0.9610\n",
      "Early stopping at epoch 35\n",
      "\n",
      "Fitting fold 2\n"
     ]
    },
    {
     "data": {
      "application/vnd.jupyter.widget-view+json": {
       "model_id": "89cb1b55a3494ee7b56df517c4aaa9f6",
       "version_major": 2,
       "version_minor": 0
      },
      "text/plain": [
       "  0%|          | 0/50 [00:00<?, ?it/s]"
      ]
     },
     "metadata": {},
     "output_type": "display_data"
    },
    {
     "name": "stdout",
     "output_type": "stream",
     "text": [
      "Train loss: 0.0760, Val Loss: 0.1174, Accuracy: 0.9667\n",
      "Early stopping at epoch 38\n",
      "\n",
      "Fitting fold 3\n"
     ]
    },
    {
     "data": {
      "application/vnd.jupyter.widget-view+json": {
       "model_id": "49f8d93945dd4d04ab048301ec9f5632",
       "version_major": 2,
       "version_minor": 0
      },
      "text/plain": [
       "  0%|          | 0/50 [00:00<?, ?it/s]"
      ]
     },
     "metadata": {},
     "output_type": "display_data"
    },
    {
     "name": "stdout",
     "output_type": "stream",
     "text": [
      "Train loss: 0.0616, Val Loss: 0.0721, Accuracy: 0.9794\n",
      "Early stopping at epoch 49\n",
      "\n",
      "Fitting fold 4\n"
     ]
    },
    {
     "data": {
      "application/vnd.jupyter.widget-view+json": {
       "model_id": "dc53978cf1bd4aa997fa0fe657dc5a34",
       "version_major": 2,
       "version_minor": 0
      },
      "text/plain": [
       "  0%|          | 0/50 [00:00<?, ?it/s]"
      ]
     },
     "metadata": {},
     "output_type": "display_data"
    },
    {
     "name": "stdout",
     "output_type": "stream",
     "text": [
      "Train loss: 0.0756, Val Loss: 0.1144, Accuracy: 0.9674\n",
      "Early stopping at epoch 36\n",
      "\n",
      "Fitting fold 5\n"
     ]
    },
    {
     "data": {
      "application/vnd.jupyter.widget-view+json": {
       "model_id": "5eeee2e4d738439fb0b059022ace7380",
       "version_major": 2,
       "version_minor": 0
      },
      "text/plain": [
       "  0%|          | 0/50 [00:00<?, ?it/s]"
      ]
     },
     "metadata": {},
     "output_type": "display_data"
    },
    {
     "name": "stdout",
     "output_type": "stream",
     "text": [
      "Train loss: 0.0771, Val Loss: 0.0854, Accuracy: 0.9773\n",
      "Early stopping at epoch 33\n",
      "\n",
      "Fitting fold 6\n"
     ]
    },
    {
     "data": {
      "application/vnd.jupyter.widget-view+json": {
       "model_id": "20fcaec4a975438288a85a5fe0e0a941",
       "version_major": 2,
       "version_minor": 0
      },
      "text/plain": [
       "  0%|          | 0/50 [00:00<?, ?it/s]"
      ]
     },
     "metadata": {},
     "output_type": "display_data"
    },
    {
     "name": "stdout",
     "output_type": "stream",
     "text": [
      "Train loss: 0.0760, Val Loss: 0.1003, Accuracy: 0.9709\n",
      "Early stopping at epoch 35\n",
      "\n",
      "Fitting fold 7\n"
     ]
    },
    {
     "data": {
      "application/vnd.jupyter.widget-view+json": {
       "model_id": "9a6b428d80754cb08a344b58c50b8951",
       "version_major": 2,
       "version_minor": 0
      },
      "text/plain": [
       "  0%|          | 0/50 [00:00<?, ?it/s]"
      ]
     },
     "metadata": {},
     "output_type": "display_data"
    },
    {
     "name": "stdout",
     "output_type": "stream",
     "text": [
      "Train loss: 0.0836, Val Loss: 0.1263, Accuracy: 0.9674\n",
      "Early stopping at epoch 26\n",
      "\n",
      "Fitting fold 8\n"
     ]
    },
    {
     "data": {
      "application/vnd.jupyter.widget-view+json": {
       "model_id": "fec801e6c3a7458ea5f833507c146b43",
       "version_major": 2,
       "version_minor": 0
      },
      "text/plain": [
       "  0%|          | 0/50 [00:00<?, ?it/s]"
      ]
     },
     "metadata": {},
     "output_type": "display_data"
    },
    {
     "name": "stdout",
     "output_type": "stream",
     "text": [
      "Train loss: 0.0690, Val Loss: 0.1133, Accuracy: 0.9652\n",
      "Early stopping at epoch 41\n",
      "\n",
      "Fitting fold 9\n"
     ]
    },
    {
     "data": {
      "application/vnd.jupyter.widget-view+json": {
       "model_id": "e9233785707e44c588c9c5410bd08756",
       "version_major": 2,
       "version_minor": 0
      },
      "text/plain": [
       "  0%|          | 0/50 [00:00<?, ?it/s]"
      ]
     },
     "metadata": {},
     "output_type": "display_data"
    },
    {
     "name": "stdout",
     "output_type": "stream",
     "text": [
      "Train loss: 0.0821, Val Loss: 0.0998, Accuracy: 0.9738\n",
      "Early stopping at epoch 32\n",
      "\n",
      "Fitting fold 10\n"
     ]
    },
    {
     "data": {
      "application/vnd.jupyter.widget-view+json": {
       "model_id": "68686fec3fc9466a81442acddf6bb880",
       "version_major": 2,
       "version_minor": 0
      },
      "text/plain": [
       "  0%|          | 0/50 [00:00<?, ?it/s]"
      ]
     },
     "metadata": {},
     "output_type": "display_data"
    },
    {
     "name": "stdout",
     "output_type": "stream",
     "text": [
      "Train loss: 0.0676, Val Loss: 0.0833, Accuracy: 0.9759\r"
     ]
    }
   ],
   "source": [
    "kfold = StratifiedKFold(n_splits=10)\n",
    "\n",
    "training_losses_foldx, validation_losses_foldx, accuracy_scores_foldx, models = [], [], [], []\n",
    "\n",
    "model = StellarNet(input_channels=spectrum_width)\n",
    "summary(model)\n",
    "\n",
    "for fold, (train_idx, val_idx) in enumerate(kfold.split(X, y)):\n",
    "    \n",
    "    print(f\"\\nFitting fold {fold+1}\")\n",
    "\n",
    "    model, tr_loss, val_loss, acc = fit_model(model, X[train_idx], y[train_idx], X[val_idx], y[val_idx], prt_steps=1, verbose=True)\n",
    "    models.append(model)\n",
    "    training_losses_foldx.append(tr_loss)\n",
    "    validation_losses_foldx.append(val_loss)\n",
    "    accuracy_scores_foldx.append(acc)\n",
    "\n",
    "training_losses = np.mean(extend_curves(training_losses_foldx), axis=0)\n",
    "validation_losses = np.mean(extend_curves(validation_losses_foldx), axis=0)\n",
    "accuracy_scores = np.mean(extend_curves(accuracy_scores_foldx), axis=0)"
   ]
  },
  {
   "cell_type": "code",
   "execution_count": 14,
   "metadata": {},
   "outputs": [
    {
     "data": {
      "image/png": "[encoded data removed]",
      "text/plain": [
       "<Figure size 1500x1400 with 2 Axes>"
      ]
     },
     "metadata": {},
     "output_type": "display_data"
    }
   ],
   "source": [
    "fig, (ax1, ax2) = plt.subplots(2, 1, figsize=(15, 14))\n",
    "\n",
    "ax1.plot(accuracy_scores, label='Validation Accuracy')\n",
    "ax1.set_xlabel('Epochs')\n",
    "ax1.set_ylabel('Accuracy')\n",
    "ax1.set_title('Accuracy')\n",
    "ax1.legend(loc='upper left')\n",
    "\n",
    "ax1.annotate(f'{accuracy_scores[0]:.4f}', (0, accuracy_scores[0]), textcoords=\"offset points\", xytext=(0,10), ha='center')\n",
    "ax1.annotate(f'{accuracy_scores[-1]:.4f}', (len(accuracy_scores)-1, accuracy_scores[-1]), textcoords=\"offset points\", xytext=(0,10), ha='center')\n",
    "\n",
    "ax2.plot(training_losses, label='Training Loss')\n",
    "ax2.plot(validation_losses, label='Validation Loss')\n",
    "ax2.set_xlabel('Epochs')\n",
    "ax2.set_ylabel('Loss')\n",
    "ax2.set_title('Training and Validation Loss')\n",
    "ax2.legend(loc='upper left')\n",
    "\n",
    "ax2.annotate(f'{training_losses[0]:.2f}', (0, training_losses[0]), textcoords=\"offset points\", xytext=(0,10), ha='center')\n",
    "ax2.annotate(f'{training_losses[-1]:.2f}', (len(training_losses)-1, training_losses[-1]), textcoords=\"offset points\", xytext=(0,10), ha='center')\n",
    "ax2.annotate(f'{validation_losses[0]:.2f}', (0, validation_losses[0]), textcoords=\"offset points\", xytext=(0,10), ha='center')\n",
    "ax2.annotate(f'{validation_losses[-1]:.2f}', (len(validation_losses)-1, validation_losses[-1]), textcoords=\"offset points\", xytext=(0,10), ha='center')\n",
    "\n",
    "plt.tight_layout()\n",
    "plt.show()"
   ]
  },
  {
   "cell_type": "code",
   "execution_count": 16,
   "metadata": {},
   "outputs": [],
   "source": [
    "torch.save(models,'../../trained_models/stellarnet.pth')"
   ]
  }
 ],
 "metadata": {
  "kernelspec": {
   "display_name": ".venv",
   "language": "python",
   "name": "python3"
  },
  "language_info": {
   "codemirror_mode": {
    "name": "ipython",
    "version": 3
   },
   "file_extension": ".py",
   "mimetype": "text/x-python",
   "name": "python",
   "nbconvert_exporter": "python",
   "pygments_lexer": "ipython3",
   "version": "3.10.0"
  }
 },
 "nbformat": 4,
 "nbformat_minor": 2
}
