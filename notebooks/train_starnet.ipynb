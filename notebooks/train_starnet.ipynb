{
 "cells": [
  {
   "cell_type": "code",
   "execution_count": 4,
   "metadata": {},
   "outputs": [],
   "source": [
    "import sys\n",
    "sys.path.append('../') # Add the root directory to sys.path"
   ]
  },
  {
   "cell_type": "code",
   "execution_count": 5,
   "metadata": {},
   "outputs": [],
   "source": [
    "import pandas as pd\n",
    "import numpy as np\n",
    "import torch\n",
    "from torch import nn\n",
    "from models.testmodel import TestConvModel\n",
    "from models.starnet import StarNet\n",
    "import matplotlib.pyplot as plt\n",
    "from torch.utils.data import DataLoader, TensorDataset"
   ]
  },
  {
   "cell_type": "code",
   "execution_count": 6,
   "metadata": {},
   "outputs": [],
   "source": [
    "data_dir = '../data/massive_stars.parquet'"
   ]
  },
  {
   "cell_type": "code",
   "execution_count": 7,
   "metadata": {},
   "outputs": [
    {
     "data": {
      "text/html": [
       "<div>\n",
       "<style scoped>\n",
       "    .dataframe tbody tr th:only-of-type {\n",
       "        vertical-align: middle;\n",
       "    }\n",
       "\n",
       "    .dataframe tbody tr th {\n",
       "        vertical-align: top;\n",
       "    }\n",
       "\n",
       "    .dataframe thead th {\n",
       "        text-align: right;\n",
       "    }\n",
       "</style>\n",
       "<table border=\"1\" class=\"dataframe\">\n",
       "  <thead>\n",
       "    <tr style=\"text-align: right;\">\n",
       "      <th></th>\n",
       "      <th>source_id</th>\n",
       "      <th>teff_gspphot</th>\n",
       "      <th>logg_gspphot</th>\n",
       "      <th>mh_gspphot</th>\n",
       "      <th>spectraltype_esphs</th>\n",
       "      <th>Cat</th>\n",
       "      <th>flux</th>\n",
       "    </tr>\n",
       "  </thead>\n",
       "  <tbody>\n",
       "    <tr>\n",
       "      <th>0</th>\n",
       "      <td>466475508969557888</td>\n",
       "      <td>18411.494141</td>\n",
       "      <td>3.5385</td>\n",
       "      <td>-0.3139</td>\n",
       "      <td>B</td>\n",
       "      <td>M</td>\n",
       "      <td>[1.4043112e-15, 1.3886055e-15, 1.3119094e-15, ...</td>\n",
       "    </tr>\n",
       "    <tr>\n",
       "      <th>1</th>\n",
       "      <td>3325513363920961408</td>\n",
       "      <td>16151.836914</td>\n",
       "      <td>3.7164</td>\n",
       "      <td>0.0395</td>\n",
       "      <td>B</td>\n",
       "      <td>M</td>\n",
       "      <td>[1.4678052e-15, 1.3982165e-15, 1.3334084e-15, ...</td>\n",
       "    </tr>\n",
       "    <tr>\n",
       "      <th>2</th>\n",
       "      <td>3375508943611375488</td>\n",
       "      <td>18823.841797</td>\n",
       "      <td>3.4316</td>\n",
       "      <td>0.2918</td>\n",
       "      <td>B</td>\n",
       "      <td>M</td>\n",
       "      <td>[1.0764202e-15, 1.0605224e-15, 1.0162869e-15, ...</td>\n",
       "    </tr>\n",
       "    <tr>\n",
       "      <th>3</th>\n",
       "      <td>4063973032805550592</td>\n",
       "      <td>15295.044922</td>\n",
       "      <td>3.4026</td>\n",
       "      <td>0.0999</td>\n",
       "      <td>G</td>\n",
       "      <td>M</td>\n",
       "      <td>[9.53517e-16, 9.214246e-16, 8.3622285e-16, 7.9...</td>\n",
       "    </tr>\n",
       "    <tr>\n",
       "      <th>4</th>\n",
       "      <td>454379128715344896</td>\n",
       "      <td>13149.229492</td>\n",
       "      <td>3.8305</td>\n",
       "      <td>-0.9505</td>\n",
       "      <td>B</td>\n",
       "      <td>LM</td>\n",
       "      <td>[6.8294334e-16, 6.693247e-16, 6.1780524e-16, 5...</td>\n",
       "    </tr>\n",
       "  </tbody>\n",
       "</table>\n",
       "</div>"
      ],
      "text/plain": [
       "             source_id  teff_gspphot  logg_gspphot  mh_gspphot  \\\n",
       "0   466475508969557888  18411.494141        3.5385     -0.3139   \n",
       "1  3325513363920961408  16151.836914        3.7164      0.0395   \n",
       "2  3375508943611375488  18823.841797        3.4316      0.2918   \n",
       "3  4063973032805550592  15295.044922        3.4026      0.0999   \n",
       "4   454379128715344896  13149.229492        3.8305     -0.9505   \n",
       "\n",
       "  spectraltype_esphs Cat                                               flux  \n",
       "0                  B   M  [1.4043112e-15, 1.3886055e-15, 1.3119094e-15, ...  \n",
       "1                  B   M  [1.4678052e-15, 1.3982165e-15, 1.3334084e-15, ...  \n",
       "2                  B   M  [1.0764202e-15, 1.0605224e-15, 1.0162869e-15, ...  \n",
       "3                  G   M  [9.53517e-16, 9.214246e-16, 8.3622285e-16, 7.9...  \n",
       "4                  B  LM  [6.8294334e-16, 6.693247e-16, 6.1780524e-16, 5...  "
      ]
     },
     "execution_count": 7,
     "metadata": {},
     "output_type": "execute_result"
    }
   ],
   "source": [
    "data = pd.read_parquet(data_dir)\n",
    "data.head(5)"
   ]
  },
  {
   "cell_type": "code",
   "execution_count": 8,
   "metadata": {},
   "outputs": [
    {
     "data": {
      "text/html": [
       "<div>\n",
       "<style scoped>\n",
       "    .dataframe tbody tr th:only-of-type {\n",
       "        vertical-align: middle;\n",
       "    }\n",
       "\n",
       "    .dataframe tbody tr th {\n",
       "        vertical-align: top;\n",
       "    }\n",
       "\n",
       "    .dataframe thead th {\n",
       "        text-align: right;\n",
       "    }\n",
       "</style>\n",
       "<table border=\"1\" class=\"dataframe\">\n",
       "  <thead>\n",
       "    <tr style=\"text-align: right;\">\n",
       "      <th></th>\n",
       "      <th>source_id</th>\n",
       "      <th>Cat</th>\n",
       "      <th>flux</th>\n",
       "    </tr>\n",
       "  </thead>\n",
       "  <tbody>\n",
       "    <tr>\n",
       "      <th>0</th>\n",
       "      <td>466475508969557888</td>\n",
       "      <td>M</td>\n",
       "      <td>[1.4043112e-15, 1.3886055e-15, 1.3119094e-15, ...</td>\n",
       "    </tr>\n",
       "    <tr>\n",
       "      <th>1</th>\n",
       "      <td>3325513363920961408</td>\n",
       "      <td>M</td>\n",
       "      <td>[1.4678052e-15, 1.3982165e-15, 1.3334084e-15, ...</td>\n",
       "    </tr>\n",
       "    <tr>\n",
       "      <th>2</th>\n",
       "      <td>3375508943611375488</td>\n",
       "      <td>M</td>\n",
       "      <td>[1.0764202e-15, 1.0605224e-15, 1.0162869e-15, ...</td>\n",
       "    </tr>\n",
       "    <tr>\n",
       "      <th>3</th>\n",
       "      <td>4063973032805550592</td>\n",
       "      <td>M</td>\n",
       "      <td>[9.53517e-16, 9.214246e-16, 8.3622285e-16, 7.9...</td>\n",
       "    </tr>\n",
       "    <tr>\n",
       "      <th>4</th>\n",
       "      <td>454379128715344896</td>\n",
       "      <td>LM</td>\n",
       "      <td>[6.8294334e-16, 6.693247e-16, 6.1780524e-16, 5...</td>\n",
       "    </tr>\n",
       "  </tbody>\n",
       "</table>\n",
       "</div>"
      ],
      "text/plain": [
       "             source_id Cat                                               flux\n",
       "0   466475508969557888   M  [1.4043112e-15, 1.3886055e-15, 1.3119094e-15, ...\n",
       "1  3325513363920961408   M  [1.4678052e-15, 1.3982165e-15, 1.3334084e-15, ...\n",
       "2  3375508943611375488   M  [1.0764202e-15, 1.0605224e-15, 1.0162869e-15, ...\n",
       "3  4063973032805550592   M  [9.53517e-16, 9.214246e-16, 8.3622285e-16, 7.9...\n",
       "4   454379128715344896  LM  [6.8294334e-16, 6.693247e-16, 6.1780524e-16, 5..."
      ]
     },
     "execution_count": 8,
     "metadata": {},
     "output_type": "execute_result"
    }
   ],
   "source": [
    "df = data.drop(columns = ['teff_gspphot', 'logg_gspphot', 'mh_gspphot', 'spectraltype_esphs'])\n",
    "df.head()"
   ]
  },
  {
   "cell_type": "code",
   "execution_count": 9,
   "metadata": {},
   "outputs": [
    {
     "name": "stdout",
     "output_type": "stream",
     "text": [
      "<class 'pandas.core.frame.DataFrame'>\n",
      "RangeIndex: 17627 entries, 0 to 17626\n",
      "Data columns (total 3 columns):\n",
      " #   Column     Non-Null Count  Dtype \n",
      "---  ------     --------------  ----- \n",
      " 0   source_id  17627 non-null  int64 \n",
      " 1   Cat        17627 non-null  object\n",
      " 2   flux       17627 non-null  object\n",
      "dtypes: int64(1), object(2)\n",
      "memory usage: 413.3+ KB\n"
     ]
    }
   ],
   "source": [
    "df.info()"
   ]
  },
  {
   "cell_type": "code",
   "execution_count": 10,
   "metadata": {},
   "outputs": [
    {
     "data": {
      "image/png": "[encoded data removed]",
      "text/plain": [
       "<Figure size 1200x600 with 2 Axes>"
      ]
     },
     "metadata": {},
     "output_type": "display_data"
    }
   ],
   "source": [
    "# rerun this cell to see random examples of different spectra\n",
    "\n",
    "\n",
    "# Random sample from 'M' category (massive star)\n",
    "sample_ms = df[df['Cat'] == 'M'].sample(n=1).index\n",
    "flux_ms = df['flux'].iloc[sample_ms].values[0]\n",
    "object_id_ms = df['source_id'].iloc[sample_ms].values[0]\n",
    "\n",
    "# Random sample from 'LM' category (low-mass star)\n",
    "sample_lm = df[df['Cat'] == 'LM'].sample(n=1).index\n",
    "flux_lm = df['flux'].iloc[sample_lm].values[0]\n",
    "object_id_lm = df['source_id'].iloc[sample_lm].values[0]\n",
    "\n",
    "plt.figure(figsize=(12, 6))\n",
    "\n",
    "# Plot for 'M' category (massive star)\n",
    "plt.subplot(1, 2, 1)\n",
    "plt.plot(flux_ms)\n",
    "plt.title(f\"Massive Star ({object_id_ms})\")\n",
    "plt.xlabel('Wavelength (nm)')\n",
    "plt.ylabel('Magnitude')\n",
    "\n",
    "# Plot for 'LM' category (low-mass star)\n",
    "plt.subplot(1, 2, 2)\n",
    "plt.plot(flux_lm)\n",
    "plt.title(f\"Low-Mass Star ({object_id_lm})\")\n",
    "plt.xlabel('Wavelength (nm)')\n",
    "plt.ylabel('Magnitude')\n",
    "\n",
    "plt.tight_layout()\n",
    "plt.show()\n"
   ]
  },
  {
   "cell_type": "code",
   "execution_count": 11,
   "metadata": {},
   "outputs": [
    {
     "name": "stdout",
     "output_type": "stream",
     "text": [
      "Number of total spectral samples: 17627\n",
      "Number of bins in each spectra: 343\n",
      "In the dataset, we have 11026 spectra for low mass stars and 6601 spectra for high mass stars.\n"
     ]
    }
   ],
   "source": [
    "num_samples = df.shape[0]\n",
    "spectrum_width = len(df['flux'][0])\n",
    "\n",
    "num_samples_lm = df['Cat'].value_counts()['LM']\n",
    "num_samples_m = df['Cat'].value_counts()['M']\n",
    "num_classes = df['Cat'].nunique()\n",
    "\n",
    "print(\"Number of total spectral samples:\", num_samples)\n",
    "print(\"Number of bins in each spectra:\", spectrum_width)\n",
    "print(\"In the dataset, we have\", num_samples_lm, \"spectra for low mass stars and\", num_samples_m, \"spectra for high mass stars.\")"
   ]
  },
  {
   "cell_type": "code",
   "execution_count": 12,
   "metadata": {},
   "outputs": [],
   "source": [
    "X = np.vstack(df['flux'])\n",
    "y = np.vstack(df['Cat'])\n",
    "\n",
    "y = np.where(y == 'M', 1, y)\n",
    "y = np.where(y == 'LM', 0, y)\n",
    "\n",
    "y = y.astype(int)"
   ]
  },
  {
   "cell_type": "code",
   "execution_count": 13,
   "metadata": {},
   "outputs": [],
   "source": [
    "# L2 normalization\n",
    "norm = np.linalg.norm(X,keepdims=True)\n",
    "X = X/norm"
   ]
  },
  {
   "cell_type": "code",
   "execution_count": 14,
   "metadata": {},
   "outputs": [],
   "source": [
    "split = 0.8\n",
    "\n",
    "train_size = int(split * num_samples)\n",
    "\n",
    "x_train, x_test = np.split(X, [train_size])\n",
    "y_train, y_test = np.split(y, [train_size])"
   ]
  },
  {
   "cell_type": "code",
   "execution_count": 15,
   "metadata": {},
   "outputs": [
    {
     "name": "stdout",
     "output_type": "stream",
     "text": [
      "The dataset is divided into 14101 training samples and 3526 testing samples.\n"
     ]
    }
   ],
   "source": [
    "print(\"The dataset is divided into\", len(x_train), \"training samples and\", len(x_test),\"testing samples.\")"
   ]
  },
  {
   "cell_type": "code",
   "execution_count": 18,
   "metadata": {},
   "outputs": [
    {
     "data": {
      "text/plain": [
       "array([1, 0])"
      ]
     },
     "execution_count": 18,
     "metadata": {},
     "output_type": "execute_result"
    }
   ],
   "source": [
    "pd.Series(y_train.squeeze(1)).unique()"
   ]
  },
  {
   "cell_type": "code",
   "execution_count": null,
   "metadata": {},
   "outputs": [],
   "source": [
    "num_filters = [4,16]\n",
    "filter_length = 8\n",
    "pool_length = 4\n",
    "num_fluxes = x_train.shape[1]\n",
    "num_hidden = [256,128]\n",
    "num_labels = y_train.shape[1]\n",
    "\n",
    "model = StarNet(num_fluxes, num_filters, filter_length, pool_length, num_hidden, num_labels)"
   ]
  },
  {
   "cell_type": "code",
   "execution_count": null,
   "metadata": {},
   "outputs": [],
   "source": [
    "epochs = 10\n",
    "device = 'cuda'\n",
    "learning_rate = 1e-3\n",
    "batch_size = 32\n",
    "criterion = nn.MSELoss()\n",
    "optimizer = torch.optim.Adam(model.parameters(), lr=learning_rate)"
   ]
  },
  {
   "cell_type": "code",
   "execution_count": null,
   "metadata": {},
   "outputs": [],
   "source": [
    "train_dataset = TensorDataset(torch.from_numpy(x_train).float(),\n",
    "                              torch.from_numpy(y_train).float())\n",
    "test_dataset = TensorDataset(torch.from_numpy(x_test).float(),\n",
    "                              torch.from_numpy(y_test).float())\n",
    "\n",
    "train_loader = DataLoader(dataset=train_dataset, batch_size=batch_size, drop_last=True, shuffle=True, pin_memory=True)\n",
    "test_loader = DataLoader(dataset=test_dataset, batch_size=batch_size, drop_last=True, shuffle=True, pin_memory=True)"
   ]
  },
  {
   "cell_type": "code",
   "execution_count": null,
   "metadata": {},
   "outputs": [],
   "source": [
    "model.to(device)\n",
    "print_freq = 50\n",
    "for epoch in range(epochs):\n",
    "    total, correct, cnt = 0, 0, 0\n",
    "    for batch_id, data in enumerate(train_loader, start=1):\n",
    "        \n",
    "        x_batch, y_batch = data\n",
    "        x_batch = x_batch.to(device)\n",
    "        y_batch = y_batch.to(device)\n",
    "\n",
    "        output = model(x_batch.unsqueeze(1))\n",
    "\n",
    "        loss = criterion(output, y_batch)\n",
    "\n",
    "        optimizer.zero_grad()\n",
    "        loss.backward()\n",
    "        optimizer.step()\n",
    "        \n",
    "        _, pred = output.max(1)  # pred: [batch_size]\n",
    "\n",
    "        print(output)\n",
    "        #total += len(y_batch)\n",
    "        #correct += sum(pred.detach().cpu() == y_batch.detach().cpu())\n",
    "        \n",
    "        #accuracy = correct / total\n",
    "\n",
    "        #cnt += 1\n",
    "        #if cnt % print_freq == 0:\n",
    "            #print(f'epoch[{epoch}/{epochs} {batch_id}/{len(train_loader.dataset)//batch_size}] loss: {loss.item():.3f} accuracy: {accuracy.item():.3f}')\n",
    "\n",
    "        \n",
    "'''\n",
    "    with torch.no_grad():\n",
    "        total, correct, cnt = 0, 0, 0\n",
    "        for batch_id, (images, labels) in enumerate(test_loader, start=1):\n",
    "            images = images.to(device)\n",
    "            labels = labels.to(device)\n",
    "\n",
    "            output = model(images.unsqueeze(1))\n",
    "            loss = criterion(output, labels)\n",
    "\n",
    "            _, pred = output.max(1)  # pred: [batch_size]\n",
    "\n",
    "            total += len(labels)\n",
    "            correct += sum(pred.detach().cpu() == labels.detach().cpu())\n",
    "\n",
    "            accuracy = correct / total\n",
    "\n",
    "            cnt += 1\n",
    "            if cnt % print_freq == 0:\n",
    "                print(f'valid {batch_id}/{len(test_loader.dataset)//batch_size}  loss: {loss.item():.3f}  accuracy: {accuracy:.3f} ')\n",
    "'''"
   ]
  }
 ],
 "metadata": {
  "kernelspec": {
   "display_name": ".venv",
   "language": "python",
   "name": "python3"
  },
  "language_info": {
   "codemirror_mode": {
    "name": "ipython",
    "version": 3
   },
   "file_extension": ".py",
   "mimetype": "text/x-python",
   "name": "python",
   "nbconvert_exporter": "python",
   "pygments_lexer": "ipython3",
   "version": "3.10.0"
  }
 },
 "nbformat": 4,
 "nbformat_minor": 2
}
