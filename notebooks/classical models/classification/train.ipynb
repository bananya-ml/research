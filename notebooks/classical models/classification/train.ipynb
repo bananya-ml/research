{
 "cells": [
  {
   "cell_type": "markdown",
   "metadata": {},
   "source": [
    "## ML models"
   ]
  },
  {
   "cell_type": "markdown",
   "metadata": {},
   "source": [
    "This notebook trains the following ML models:\n",
    "\n",
    "1. Logistic Regressor\n",
    "2. Decision Tree\n",
    "3. Support-Vector Machine\n",
    "4. K-Nearest Neighbours\n",
    "5. Random Forests\n",
    "\n",
    "as well as two boosting methods:\n",
    "\n",
    "1. Extreme Gradient Boosting Machine\n",
    "2. Light Gradient Boosting Machine"
   ]
  },
  {
   "cell_type": "code",
   "execution_count": 1,
   "metadata": {},
   "outputs": [],
   "source": [
    "from loguru import logger\n",
    "import time\n",
    "import os\n",
    "import matplotlib.pyplot as plt\n",
    "import pandas as pd\n",
    "import numpy as np\n",
    "import pickle\n",
    "%matplotlib inline\n",
    "\n",
    "from pygam import LogisticGAM\n",
    "from sklearn.linear_model import LogisticRegression\n",
    "from sklearn.tree import DecisionTreeClassifier\n",
    "from sklearn.ensemble import RandomForestClassifier\n",
    "from sklearn.neighbors import KNeighborsClassifier\n",
    "from lightgbm import (LGBMClassifier as lgb)\n",
    "from xgboost import XGBClassifier as xgb\n",
    "\n",
    "from sklearn.utils import shuffle\n",
    "from sklearn.metrics import (\n",
    "    precision_score, recall_score, f1_score, roc_auc_score)\n",
    "from sklearn.model_selection import RepeatedStratifiedKFold"
   ]
  },
  {
   "cell_type": "code",
   "execution_count": 2,
   "metadata": {},
   "outputs": [],
   "source": [
    "log_dir = '../../../logs'\n",
    "kfold = RepeatedStratifiedKFold(n_splits=5, n_repeats=2, random_state=42)"
   ]
  },
  {
   "cell_type": "code",
   "execution_count": 3,
   "metadata": {},
   "outputs": [],
   "source": [
    "def get_data(name:str='', SHUFFLE_FLAG:bool=False, NORM_FLAG:bool=True, random_state:int=42):\n",
    "    '''\n",
    "    Function to select data\n",
    "\n",
    "    Arguments\n",
    "    ---------\n",
    "    name: str, (required)\n",
    "        name of dataset to be returned\n",
    "    SHUFFLE_FLAG: bool, (optional)\n",
    "        Flag for if the data should be shuffled\n",
    "    NORM_FLAG: bool, (optional)\n",
    "        If the data should be normalized\n",
    "    random_state: int, (optional)\n",
    "        random_state\n",
    "    \n",
    "    Returns\n",
    "    -------\n",
    "    X: numpy.ndarray \n",
    "        training set \n",
    "    y: numpy.ndarray \n",
    "        test set\n",
    "    '''\n",
    "    \n",
    "    if name is None or name not in ['gaia']:\n",
    "        raise ValueError(\"Required argument 'name' is missing.\")\n",
    "    \n",
    "    if name == \"gaia\":\n",
    "        dir = '../../../data/Gaia DR3/train.parquet'\n",
    "        data = pd.read_parquet(dir)\n",
    "        if SHUFFLE_FLAG:\n",
    "            df = shuffle(data)\n",
    "        else:\n",
    "            df = data\n",
    "        X = np.vstack(df['flux'])\n",
    "        y = np.vstack(df['Cat'])\n",
    "        \n",
    "        y = np.where(y == 'M', 1, y)\n",
    "        y = np.where(y == 'LM', 0, y)\n",
    "\n",
    "        y = y.astype(int)\n",
    "\n",
    "        if NORM_FLAG:\n",
    "            norm = np.linalg.norm(X,keepdims=True)\n",
    "            X = X/norm\n",
    "            \n",
    "    return X, y"
   ]
  },
  {
   "cell_type": "code",
   "execution_count": 4,
   "metadata": {},
   "outputs": [],
   "source": [
    "def train_model(model, X, y):\n",
    "    \n",
    "    precision_scores = []\n",
    "    recall_scores = []\n",
    "    f1_scores = []\n",
    "    roc_auc_scores = []\n",
    "    st = time.time()\n",
    "    for train_idx, test_idx in kfold.split(X, y):\n",
    "\n",
    "        x_train, x_test = X[train_idx], X[test_idx]\n",
    "        y_train, y_test = y[train_idx], y[test_idx]\n",
    "\n",
    "        model.fit(x_train, y_train.squeeze(1))\n",
    "        \n",
    "        y_pred = model.predict(x_test)\n",
    "        y_probs = model.predict_proba(x_test)[:,1]\n",
    "        \n",
    "        # scoring metrics\n",
    "        ra_score = roc_auc_score(y_test.squeeze(1), y_probs)\n",
    "        precision = precision_score(y_test.squeeze(1), y_pred, zero_division=1)\n",
    "        recall = recall_score(y_test.squeeze(1), y_pred)\n",
    "        f1 = f1_score(y_test.squeeze(1), y_pred)\n",
    "\n",
    "        roc_auc_scores.append(ra_score)\n",
    "        precision_scores.append(precision)\n",
    "        recall_scores.append(recall)\n",
    "        f1_scores.append(f1)\n",
    "\n",
    "    print(\"ROC-AUC score:\",np.mean(roc_auc_scores))\n",
    "    print(\"Precision:\",np.mean(precision_scores))\n",
    "    print(\"Recall:\",np.mean(recall_scores))\n",
    "    print(\"F1 score:\",np.mean(f1_scores))\n",
    "\n",
    "\n",
    "    log_file = os.path.join(log_dir, f'train_{model.__class__.__name__}.log')\n",
    "    logger.add(log_file, format=\"{time} - {level} - {message}\")\n",
    "    logger.info(f\"Cross-validation technique:{kfold.__class__.__name__},\\\n",
    "                Number of repeats:{kfold.__dict__['n_repeats']},\\\n",
    "                Number of splits:{kfold.__dict__['cvargs']['n_splits']},\\\n",
    "                Time taken:{time.time()-st},\\\n",
    "                ROC-AUC scores:{roc_auc_scores},\\\n",
    "                Mean ROC-AUC score:{np.mean(roc_auc_scores)},\\\n",
    "                Precision:{precision_scores},\\\n",
    "                Mean precision:{np.mean(precision_scores)},\\\n",
    "                Recall:{recall_scores},\\\n",
    "                Mean recall:{np.mean(recall_scores)},\\\n",
    "                F1 scores:{f1_scores},\\\n",
    "                Mean F1 scores:{np.mean(f1_scores)}\")\n",
    "    return"
   ]
  },
  {
   "cell_type": "code",
   "execution_count": 5,
   "metadata": {},
   "outputs": [
    {
     "name": "stdout",
     "output_type": "stream",
     "text": [
      "Total number of spectra: 14101\n",
      "Number of bins in each spectra: 343\n",
      "In the dataset, we have 8820 spectra for low mass stars and 5281 spectra for high mass stars.\n"
     ]
    },
    {
     "data": {
      "image/png": "[encoded data removed]",
      "text/plain": [
       "<Figure size 640x480 with 1 Axes>"
      ]
     },
     "metadata": {},
     "output_type": "display_data"
    }
   ],
   "source": [
    "X, y = get_data('gaia', SHUFFLE_FLAG=True)\n",
    "#X, y = get_data('apogee')\n",
    "\n",
    "num_samples = X.shape[0]\n",
    "spectrum_width = X.shape[1]\n",
    "\n",
    "num_samples_m = np.count_nonzero(y)\n",
    "num_samples_lm = len(y) - num_samples_m\n",
    "num_classes = len(np.unique(y))\n",
    "\n",
    "print(\"Total number of spectra:\", num_samples)\n",
    "print(\"Number of bins in each spectra:\", spectrum_width)\n",
    "print(\"In the dataset, we have\", num_samples_lm, \"spectra for low mass stars and\", num_samples_m, \"spectra for high mass stars.\")\n",
    "\n",
    "plt.bar([\"Low-mass stars\", \"High-mass stars\"],[num_samples_lm, num_samples_m], color=['#1f77b4', '#ff7f0e'])\n",
    "plt.ylabel(\"Number of samples\")\n",
    "plt.show()"
   ]
  },
  {
   "cell_type": "code",
   "execution_count": 36,
   "metadata": {},
   "outputs": [],
   "source": [
    "#naive splitting methods, not used in this notebook\n",
    "\n",
    "split = 0.8\n",
    "\n",
    "train_size = int(split * num_samples)\n",
    "\n",
    "x_train, x_test = np.split(X, [train_size])\n",
    "y_train, y_test = np.split(y, [train_size])\n",
    "\n",
    "#x_train, x_test, y_train, y_test = train_test_split(X, y, test_size=0.2)"
   ]
  },
  {
   "cell_type": "markdown",
   "metadata": {},
   "source": [
    "Generalized Additive Model"
   ]
  },
  {
   "cell_type": "code",
   "execution_count": null,
   "metadata": {},
   "outputs": [],
   "source": [
    "model = LogisticGAM()\n",
    "train_model(model, X, y)"
   ]
  },
  {
   "cell_type": "markdown",
   "metadata": {},
   "source": [
    "## Logistic Regression"
   ]
  },
  {
   "cell_type": "code",
   "execution_count": 6,
   "metadata": {},
   "outputs": [
    {
     "name": "stderr",
     "output_type": "stream",
     "text": [
      "\u001b[32m2024-05-19 10:24:22.492\u001b[0m | \u001b[1mINFO    \u001b[0m | \u001b[36m__main__\u001b[0m:\u001b[36mtrain_model\u001b[0m:\u001b[36m37\u001b[0m - \u001b[1mCross-validation technique:RepeatedStratifiedKFold,                Number of repeats:2,                Number of splits:5,                Time taken:0.7112178802490234,                ROC-AUC scores:[0.9407867215003314, 0.9517431972789115, 0.9466717558235416, 0.95157141139284, 0.9390090316429602, 0.9490128438634994, 0.9404160654160654, 0.9479912861609291, 0.9479757180650038, 0.9444857804232804],                Mean ROC-AUC score:0.9459663811567364,                Precision:[1.0, 1.0, 1.0, 1.0, 1.0, 1.0, 1.0, 1.0, 1.0, 1.0],                Mean precision:1.0,                Recall:[0.0, 0.0, 0.0, 0.0, 0.0, 0.0, 0.0, 0.0, 0.0, 0.0],                Mean recall:0.0,                F1 scores:[0.0, 0.0, 0.0, 0.0, 0.0, 0.0, 0.0, 0.0, 0.0, 0.0],                Mean F1 scores:0.0\u001b[0m\n"
     ]
    },
    {
     "name": "stdout",
     "output_type": "stream",
     "text": [
      "ROC-AUC score: 0.9459663811567364\n",
      "Precision: 1.0\n",
      "Recall: 0.0\n",
      "F1 score: 0.0\n"
     ]
    }
   ],
   "source": [
    "model = LogisticRegression()\n",
    "train_model(model, X, y)"
   ]
  },
  {
   "cell_type": "markdown",
   "metadata": {},
   "source": [
    "## Decision Trees"
   ]
  },
  {
   "cell_type": "code",
   "execution_count": 7,
   "metadata": {},
   "outputs": [
    {
     "name": "stderr",
     "output_type": "stream",
     "text": [
      "\u001b[32m2024-05-19 10:28:44.609\u001b[0m | \u001b[1mINFO    \u001b[0m | \u001b[36m__main__\u001b[0m:\u001b[36mtrain_model\u001b[0m:\u001b[36m37\u001b[0m - \u001b[1mCross-validation technique:RepeatedStratifiedKFold,                Number of repeats:2,                Number of splits:5,                Time taken:260.4743993282318,                ROC-AUC scores:[0.8822749535007948, 0.8824528233010376, 0.9005026884491171, 0.8944424044870475, 0.8931639417130489, 0.89153939721584, 0.876678670205456, 0.8834910542499829, 0.8921557732941663, 0.8867713594276093],                Mean ROC-AUC score:0.8883473065844101,                Precision:[0.9010566762728146, 0.9083011583011583, 0.916030534351145, 0.9161041465766635, 0.9164237123420796, 0.9236043095004897, 0.9115913555992141, 0.9167482859941234, 0.9142581888246628, 0.9076034648700674],                Mean precision:0.9131721832632419,                Recall:[0.8874172185430463, 0.8910984848484849, 0.9090909090909091, 0.8996212121212122, 0.8929924242424242, 0.8921475875118259, 0.8787878787878788, 0.8863636363636364, 0.8986742424242424, 0.8929924242424242],                Mean recall:0.8929186018176084,                F1 scores:[0.894184938036225, 0.8996175908221797, 0.9125475285171103, 0.9077878643096035, 0.9045563549160671, 0.9076034648700674, 0.8948891031822566, 0.9012999518536351, 0.9063992359121299, 0.9002386634844869],                Mean F1 scores:0.9029124695903761\u001b[0m\n"
     ]
    },
    {
     "name": "stdout",
     "output_type": "stream",
     "text": [
      "ROC-AUC score: 0.8883473065844101\n",
      "Precision: 0.9131721832632419\n",
      "Recall: 0.8929186018176084\n",
      "F1 score: 0.9029124695903761\n"
     ]
    }
   ],
   "source": [
    "model = DecisionTreeClassifier()\n",
    "train_model(model, X, y)"
   ]
  },
  {
   "cell_type": "markdown",
   "metadata": {},
   "source": [
    "## Random Forest"
   ]
  },
  {
   "cell_type": "code",
   "execution_count": 8,
   "metadata": {},
   "outputs": [
    {
     "name": "stderr",
     "output_type": "stream",
     "text": [
      "\u001b[32m2024-05-19 10:35:51.014\u001b[0m | \u001b[1mINFO    \u001b[0m | \u001b[36m__main__\u001b[0m:\u001b[36mtrain_model\u001b[0m:\u001b[36m37\u001b[0m - \u001b[1mCross-validation technique:RepeatedStratifiedKFold,                Number of repeats:2,                Number of splits:5,                Time taken:426.37098360061646,                ROC-AUC scores:[0.974237992264077, 0.9807640069916855, 0.9818033116024186, 0.9806373149007078, 0.9775800629595274, 0.9807701383927901, 0.9776758872741015, 0.9779783914828557, 0.9788110161994091, 0.9763469623960694],                Mean ROC-AUC score:0.9786605084463641,                Precision:[0.9204440333024977, 0.9211242067089755, 0.9400749063670412, 0.9246511627906977, 0.9299065420560748, 0.9409559512652296, 0.9175824175824175, 0.9269870609981515, 0.9351251158480074, 0.9215143120960295],                Mean precision:0.9278365709015122,                Recall:[0.9413434247871334, 0.9621212121212122, 0.9507575757575758, 0.9412878787878788, 0.9422348484848485, 0.9498580889309366, 0.9488636363636364, 0.9498106060606061, 0.9554924242424242, 0.9450757575757576],                Mean recall:0.9486845453112009,                F1 scores:[0.930776426566885, 0.9411764705882353, 0.9453860640301318, 0.9328953542937588, 0.9360301034807149, 0.9453860640301318, 0.9329608938547486, 0.9382600561272217, 0.9451990632318501, 0.9331463300607761],                Mean F1 scores:0.9381216826264455\u001b[0m\n"
     ]
    },
    {
     "name": "stdout",
     "output_type": "stream",
     "text": [
      "ROC-AUC score: 0.9786605084463641\n",
      "Precision: 0.9278365709015122\n",
      "Recall: 0.9486845453112009\n",
      "F1 score: 0.9381216826264455\n"
     ]
    }
   ],
   "source": [
    "model = RandomForestClassifier()\n",
    "train_model(model, X, y)"
   ]
  },
  {
   "cell_type": "markdown",
   "metadata": {},
   "source": [
    "## K-Nearest Neighbours"
   ]
  },
  {
   "cell_type": "code",
   "execution_count": 14,
   "metadata": {},
   "outputs": [
    {
     "name": "stderr",
     "output_type": "stream",
     "text": [
      "\u001b[32m2024-05-19 12:12:32.086\u001b[0m | \u001b[1mINFO    \u001b[0m | \u001b[36m__main__\u001b[0m:\u001b[36mtrain_model\u001b[0m:\u001b[36m37\u001b[0m - \u001b[1mCross-validation technique:RepeatedStratifiedKFold,                Number of repeats:2,                Number of splits:5,                Time taken:6.121830463409424,                ROC-AUC scores:[0.9786894732664431, 0.9780454953446024, 0.9824767659589089, 0.9796017681062323, 0.9832930173331957, 0.9847247161242296, 0.9801912084278155, 0.9764884173366316, 0.9829266302480587, 0.9790864104480176],                Mean ROC-AUC score:0.9805523902594135,                Precision:[0.9162162162162162, 0.9148745519713262, 0.9356025758969642, 0.9182561307901907, 0.9091726618705036, 0.9339449541284404, 0.9133154602323503, 0.9234317343173432, 0.9236430542778289, 0.906832298136646],                Mean precision:0.919528963783781,                Recall:[0.9621570482497634, 0.9668560606060606, 0.9630681818181818, 0.9573863636363636, 0.9573863636363636, 0.9631031220435194, 0.9678030303030303, 0.9479166666666666, 0.9507575757575758, 0.9678030303030303],                Mean recall:0.9604237443020555,                F1 scores:[0.9386248269497001, 0.9401473296500921, 0.9491367242183855, 0.9374130737134909, 0.9326568265682657, 0.9482999534233815, 0.9397701149425287, 0.9355140186915888, 0.9370041997200187, 0.9363261566651397],                Mean F1 scores:0.9394893224542592\u001b[0m\n"
     ]
    },
    {
     "name": "stdout",
     "output_type": "stream",
     "text": [
      "ROC-AUC score: 0.9805523902594135\n",
      "Precision: 0.919528963783781\n",
      "Recall: 0.9604237443020555\n",
      "F1 score: 0.9394893224542592\n"
     ]
    }
   ],
   "source": [
    "model = KNeighborsClassifier()\n",
    "train_model(model, X, y)\n",
    "\n",
    "pickle.dump(model, open('../../trained_models/knn-classification.pickle', 'wb'))"
   ]
  },
  {
   "cell_type": "markdown",
   "metadata": {},
   "source": [
    "## Light Gradient Boosting Machine"
   ]
  },
  {
   "cell_type": "code",
   "execution_count": 10,
   "metadata": {},
   "outputs": [
    {
     "name": "stderr",
     "output_type": "stream",
     "text": [
      "\u001b[32m2024-05-19 10:36:14.165\u001b[0m | \u001b[1mINFO    \u001b[0m | \u001b[36m__main__\u001b[0m:\u001b[36mtrain_model\u001b[0m:\u001b[36m37\u001b[0m - \u001b[1mCross-validation technique:RepeatedStratifiedKFold,                Number of repeats:2,                Number of splits:5,                Time taken:16.640986919403076,                ROC-AUC scores:[0.9836300808560573, 0.9880224975091046, 0.989117900948258, 0.9887238670720814, 0.9894123526936027, 0.990935336607049, 0.9858072648251219, 0.9851338104686319, 0.9900243399127328, 0.9856325263691336],                Mean ROC-AUC score:0.9876439977261773,                Precision:[0.9121561668145519, 0.9204647006255585, 0.9291553133514986, 0.927007299270073, 0.91971454058876, 0.9360730593607306, 0.9159964253798034, 0.919602529358627, 0.9257246376811594, 0.91005291005291],                Mean precision:0.9215947582483672,                Recall:[0.9725638599810785, 0.9753787878787878, 0.96875, 0.9621212121212122, 0.9763257575757576, 0.9697256385998108, 0.9706439393939394, 0.9640151515151515, 0.9678030303030303, 0.9772727272727273],                Mean recall:0.9704600104641494,                F1 scores:[0.9413919413919414, 0.9471264367816092, 0.9485396383866481, 0.9442379182156134, 0.9471750114836932, 0.9526022304832714, 0.9425287356321839, 0.9412852519648636, 0.9462962962962963, 0.9424657534246575],                Mean F1 scores:0.9453649214060779\u001b[0m\n"
     ]
    },
    {
     "name": "stdout",
     "output_type": "stream",
     "text": [
      "ROC-AUC score: 0.9876439977261773\n",
      "Precision: 0.9215947582483672\n",
      "Recall: 0.9704600104641494\n",
      "F1 score: 0.9453649214060779\n"
     ]
    }
   ],
   "source": [
    "model = lgb(verbosity=-1)\n",
    "train_model(model, X, y)"
   ]
  },
  {
   "cell_type": "markdown",
   "metadata": {},
   "source": [
    "## Extreme Gradient Boosting Machine"
   ]
  },
  {
   "cell_type": "code",
   "execution_count": 11,
   "metadata": {},
   "outputs": [
    {
     "name": "stderr",
     "output_type": "stream",
     "text": [
      "\u001b[32m2024-05-19 10:36:46.982\u001b[0m | \u001b[1mINFO    \u001b[0m | \u001b[36m__main__\u001b[0m:\u001b[36mtrain_model\u001b[0m:\u001b[36m37\u001b[0m - \u001b[1mCross-validation technique:RepeatedStratifiedKFold,                Number of repeats:2,                Number of splits:5,                Time taken:32.77541494369507,                ROC-AUC scores:[0.9839942441814316, 0.9866398895416753, 0.9881746890675462, 0.989119779856387, 0.9893600116814403, 0.9903888234574814, 0.9859680456778671, 0.9854526880196522, 0.9898227599120456, 0.984620600133993],                Mean ROC-AUC score:0.987354153152952,                Precision:[0.9194991055456172, 0.9177837354781054, 0.9314442413162706, 0.9286367795059469, 0.9299363057324841, 0.9354838709677419, 0.9171171171171171, 0.9293577981651376, 0.9354545454545454, 0.9082813891362422],                Mean precision:0.9252994888419208,                Recall:[0.9725638599810785, 0.9725378787878788, 0.9649621212121212, 0.9611742424242424, 0.9678030303030303, 0.9602649006622517, 0.9640151515151515, 0.959280303030303, 0.9744318181818182, 0.9659090909090909],                Mean recall:0.9662942397006967,                F1 scores:[0.9452873563218391, 0.944367816091954, 0.947906976744186, 0.9446254071661238, 0.9484918793503481, 0.9477124183006536, 0.9399815327793167, 0.9440820130475303, 0.9545454545454546, 0.9362092703074805],                Mean F1 scores:0.9453210124654887\u001b[0m\n"
     ]
    },
    {
     "name": "stdout",
     "output_type": "stream",
     "text": [
      "ROC-AUC score: 0.987354153152952\n",
      "Precision: 0.9252994888419208\n",
      "Recall: 0.9662942397006967\n",
      "F1 score: 0.9453210124654887\n"
     ]
    }
   ],
   "source": [
    "model = xgb()\n",
    "train_model(model, X, y)"
   ]
  }
 ],
 "metadata": {
  "kernelspec": {
   "display_name": ".venv",
   "language": "python",
   "name": "python3"
  },
  "language_info": {
   "codemirror_mode": {
    "name": "ipython",
    "version": 3
   },
   "file_extension": ".py",
   "mimetype": "text/x-python",
   "name": "python",
   "nbconvert_exporter": "python",
   "pygments_lexer": "ipython3",
   "version": "3.10.0"
  }
 },
 "nbformat": 4,
 "nbformat_minor": 2
}
