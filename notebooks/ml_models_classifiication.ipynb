{
 "cells": [
  {
   "cell_type": "markdown",
   "metadata": {},
   "source": [
    "## ML models"
   ]
  },
  {
   "cell_type": "markdown",
   "metadata": {},
   "source": [
    "This notebook trains the following ML models:\n",
    "\n",
    "1. Logistic Regressor\n",
    "2. Decision Tree\n",
    "3. Support-Vector Machine\n",
    "4. K-Nearest Neighbours\n",
    "5. Random Forests\n",
    "\n",
    "as well as two boosting methods:\n",
    "\n",
    "1. Extreme Gradient Boosting Machine\n",
    "2. Light Gradient Boosting Machine"
   ]
  },
  {
   "cell_type": "code",
   "execution_count": 39,
   "metadata": {},
   "outputs": [],
   "source": [
    "import optuna\n",
    "from loguru import logger\n",
    "import time\n",
    "import os\n",
    "import matplotlib.pyplot as plt\n",
    "import pandas as pd\n",
    "import numpy as np\n",
    "import h5py\n",
    "%matplotlib inline\n",
    "\n",
    "from sklearn.linear_model import LogisticRegression\n",
    "from sklearn.tree import DecisionTreeClassifier\n",
    "from sklearn.ensemble import (RandomForestClassifier, VotingClassifier)\n",
    "from sklearn.neighbors import KNeighborsClassifier\n",
    "from sklearn.svm import SVC\n",
    "from lightgbm import (LGBMClassifier as lgb, plot_importance)\n",
    "from xgboost import XGBClassifier as xgb\n",
    "\n",
    "from sklearn.utils import shuffle\n",
    "from sklearn.metrics import (\n",
    "    accuracy_score, classification_report, mean_squared_error, roc_auc_score, confusion_matrix)\n",
    "from sklearn.model_selection import (cross_validate, RepeatedStratifiedKFold, cross_val_score, train_test_split)"
   ]
  },
  {
   "cell_type": "code",
   "execution_count": 12,
   "metadata": {},
   "outputs": [],
   "source": [
    "log_dir = '../logs'"
   ]
  },
  {
   "cell_type": "code",
   "execution_count": 5,
   "metadata": {},
   "outputs": [],
   "source": [
    "def get_data(name:str='', SHUFFLE_FLAG:bool=False, NORM_FLAG:bool=True, random_state:int=42):\n",
    "    '''\n",
    "    Function to select data\n",
    "\n",
    "    Arguments\n",
    "    ---------\n",
    "    name: str, (required)\n",
    "        name of dataset to be returned\n",
    "    SHUFFLE_FLAG: bool, (optional)\n",
    "        Flag for if the data should be shuffled\n",
    "    NORM_FLAG: bool, (optional)\n",
    "        If the data should be normalized\n",
    "    random_state: int, (optional)\n",
    "        random_state\n",
    "    \n",
    "    Returns\n",
    "    -------\n",
    "    X: numpy.ndarray \n",
    "        training set \n",
    "    y: numpy.ndarray \n",
    "        test set\n",
    "    '''\n",
    "    \n",
    "    if name is None or name not in ['gaia']:\n",
    "        raise ValueError(\"Required argument 'name' is missing.\")\n",
    "    \n",
    "    if name == \"gaia\":\n",
    "        dir = '../data/Gaia DR3/gaia_lm_m_stars.parquet'\n",
    "        data = pd.read_parquet(dir)\n",
    "        if SHUFFLE_FLAG:\n",
    "            df = shuffle(data)\n",
    "        else:\n",
    "            df = data\n",
    "        X = np.vstack(df['flux'])\n",
    "        y = np.vstack(df['Cat'])\n",
    "        \n",
    "        y = np.where(y == 'M', 1, y)\n",
    "        y = np.where(y == 'LM', 0, y)\n",
    "\n",
    "        y = y.astype(int)\n",
    "\n",
    "        if NORM_FLAG:\n",
    "            norm = np.linalg.norm(X,keepdims=True)\n",
    "            X = X/norm\n",
    "            \n",
    "\n",
    "    elif name == 'apogee':\n",
    "        dir = '../data/APOGEE'\n",
    "        train_dir = dir + '/training_data.h5'\n",
    "        test_dir = dir +'/test_data.h5'\n",
    "\n",
    "        with h5py.File(train_dir, 'r') as f:\n",
    "            X = f['spectrum'][:]\n",
    "            y = np.hstack((f['TEFF'],\n",
    "                        f['LOGG'],\n",
    "                        f['FE_H']))\n",
    "        \n",
    "        #TODO: add shuffle\n",
    "\n",
    "        if NORM_FLAG:\n",
    "            norm_dir = dir + '/mean_and_std.npy'\n",
    "            norm_data = np.load(norm_dir)\n",
    "            \n",
    "            mean = norm_data[0]\n",
    "            std = norm_data[1]\n",
    "            y = (y-mean)/std\n",
    "\n",
    "    return X, y"
   ]
  },
  {
   "cell_type": "code",
   "execution_count": 51,
   "metadata": {},
   "outputs": [
    {
     "name": "stdout",
     "output_type": "stream",
     "text": [
      "Total number of spectra: 17627\n",
      "Number of bins in each spectra: 343\n",
      "In the dataset, we have 11026 spectra for low mass stars and 6601 spectra for high mass stars.\n"
     ]
    },
    {
     "data": {
      "image/png": "[encoded data removed]",
      "text/plain": [
       "<Figure size 640x480 with 1 Axes>"
      ]
     },
     "metadata": {},
     "output_type": "display_data"
    }
   ],
   "source": [
    "X, y = get_data('gaia', SHUFFLE_FLAG=True)\n",
    "#X, y = get_data('apogee')\n",
    "\n",
    "num_samples = X.shape[0]\n",
    "spectrum_width = X.shape[1]\n",
    "\n",
    "num_samples_m = np.count_nonzero(y)\n",
    "num_samples_lm = len(y) - num_samples_m\n",
    "num_classes = len(np.unique(y))\n",
    "\n",
    "print(\"Total number of spectra:\", num_samples)\n",
    "print(\"Number of bins in each spectra:\", spectrum_width)\n",
    "print(\"In the dataset, we have\", num_samples_lm, \"spectra for low mass stars and\", num_samples_m, \"spectra for high mass stars.\")\n",
    "\n",
    "plt.bar([\"Low-mass stars\", \"High-mass stars\"],[num_samples_lm, num_samples_m], color=['#1f77b4', '#ff7f0e'])\n",
    "plt.ylabel(\"Number of samples\")\n",
    "plt.show()"
   ]
  },
  {
   "cell_type": "code",
   "execution_count": null,
   "metadata": {},
   "outputs": [],
   "source": [
    "#naive splitting methods, not used in this notebook\n",
    "\n",
    "split = 0.8\n",
    "\n",
    "train_size = int(split * num_samples)\n",
    "\n",
    "x_train, x_test = np.split(X, [train_size])\n",
    "y_train, y_test = np.split(y, [train_size])\n",
    "\n",
    "#x_train, x_test, y_train, y_test = train_test_split(X, y, test_size=0.2)\n"
   ]
  },
  {
   "cell_type": "code",
   "execution_count": 11,
   "metadata": {},
   "outputs": [],
   "source": [
    "kfold = RepeatedStratifiedKFold(n_splits=10, n_repeats=2, random_state=42)"
   ]
  },
  {
   "cell_type": "markdown",
   "metadata": {},
   "source": [
    "## Logistic Regression"
   ]
  },
  {
   "cell_type": "code",
   "execution_count": 36,
   "metadata": {},
   "outputs": [
    {
     "name": "stderr",
     "output_type": "stream",
     "text": [
      "\u001b[32m2024-05-09 15:34:55.927\u001b[0m | \u001b[1mINFO    \u001b[0m | \u001b[36m__main__\u001b[0m:\u001b[36m<module>\u001b[0m:\u001b[36m27\u001b[0m - \u001b[1mCross-validation technique:RepeatedStratifiedKFold,            Number of repeats:2,            Number of splits:10,            Time taken:1.4197499752044678,            ROC-AUC scores:[0.9466990851397017, 0.9402016538915904, 0.9445053435533943, 0.9518530728866178, 0.9447622187422732, 0.9453556416385065, 0.9367687961099473, 0.9474220425672331, 0.9455219160754551, 0.9482139910905791, 0.9351342069837083, 0.95045743014918, 0.9472499244484739, 0.9503310530509078, 0.9424640786834803, 0.9485027061182999, 0.9382322335129911, 0.9410012099213552, 0.9477685200461969, 0.9509541879777814],            Mean ROC-AUC score:0.9451699656293837,            Accuracy:[0.6256381168462848, 0.6256381168462848, 0.6256381168462848, 0.6256381168462848, 0.6256381168462848, 0.6256381168462848, 0.6250709018718095, 0.6254256526674233, 0.6254256526674233, 0.6254256526674233, 0.6256381168462848, 0.6256381168462848, 0.6256381168462848, 0.6256381168462848, 0.6256381168462848, 0.6256381168462848, 0.6250709018718095, 0.6254256526674233, 0.6254256526674233, 0.6254256526674233],            Mean accuracy:0.625517656095179\u001b[0m\n"
     ]
    },
    {
     "name": "stdout",
     "output_type": "stream",
     "text": [
      "Mean ROC-AUC score: 0.9451699656293837\n",
      "Mean accuracy: 0.625517656095179\n"
     ]
    }
   ],
   "source": [
    "# training with no hyperparamater tuning\n",
    "\n",
    "accuracy_scores = []\n",
    "roc_auc_scores = []\n",
    "st = time.time()\n",
    "for train_idx, test_idx in kfold.split(X, y):\n",
    "    \n",
    "    x_train, x_test = X[train_idx], X[test_idx]\n",
    "    y_train, y_test = y[train_idx], y[test_idx]\n",
    "\n",
    "    model = LogisticRegression()\n",
    "    model.fit(x_train, y_train.squeeze(1))\n",
    "\n",
    "    y_pred = model.predict(x_test)\n",
    "    y_probs = model.predict_proba(x_test)[:,1]\n",
    "    accuracy = accuracy_score(y_test.squeeze(1), y_pred)\n",
    "    ra_score = roc_auc_score(y_test.squeeze(1), y_probs)\n",
    "\n",
    "    roc_auc_scores.append(ra_score)\n",
    "    accuracy_scores.append(accuracy)\n",
    "\n",
    "print(\"Mean ROC-AUC score:\",np.mean(roc_auc_scores))\n",
    "print(\"Mean accuracy:\",np.mean(accuracy_scores))\n",
    "\n",
    "log_file = os.path.join(log_dir, f'train_{model.__class__.__name__}.log')\n",
    "logger.add(log_file, format=\"{time} - {level} - {message}\")\n",
    "logger.info(f\"Cross-validation technique:{kfold.__class__.__name__},\\\n",
    "            Number of repeats:{kfold.__dict__['n_repeats']},\\\n",
    "            Number of splits:{kfold.__dict__['cvargs']['n_splits']},\\\n",
    "            Time taken:{time.time()-st},\\\n",
    "            ROC-AUC scores:{roc_auc_scores},\\\n",
    "            Mean ROC-AUC score:{np.mean(roc_auc_scores)},\\\n",
    "            Accuracy:{accuracy_scores},\\\n",
    "            Mean accuracy:{np.mean(accuracy_scores)}\")"
   ]
  },
  {
   "cell_type": "markdown",
   "metadata": {},
   "source": [
    "## Decision Trees"
   ]
  },
  {
   "cell_type": "code",
   "execution_count": 9,
   "metadata": {},
   "outputs": [
    {
     "name": "stdout",
     "output_type": "stream",
     "text": [
      "0.8856353013784883\n",
      "0.9263065259338283\n"
     ]
    }
   ],
   "source": [
    "# training with no hyperparamater tuning\n",
    "\n",
    "accuracy_scores = []\n",
    "roc_auc_scores = []\n",
    "st = time.time()\n",
    "for train_idx, test_idx in kfold.split(X, y):\n",
    "    \n",
    "    x_train, x_test = X[train_idx], X[test_idx]\n",
    "    y_train, y_test = y[train_idx], y[test_idx]\n",
    "\n",
    "    model = DecisionTreeClassifier()\n",
    "    model.fit(x_train, y_train.squeeze(1))\n",
    "\n",
    "    y_pred = model.predict(x_test)\n",
    "    y_probs = model.predict_proba(x_test)[:,1]\n",
    "    accuracy = accuracy_score(y_test.squeeze(1), y_pred)\n",
    "    ra_score = roc_auc_score(y_test.squeeze(1), y_probs)\n",
    "\n",
    "    roc_auc_scores.append(ra_score)\n",
    "    accuracy_scores.append(accuracy)\n",
    "\n",
    "print(\"Mean ROC-AUC score:\",np.mean(roc_auc_scores))\n",
    "print(\"Mean accuracy:\",np.mean(accuracy_scores))\n",
    "\n",
    "log_file = os.path.join(log_dir, f'train_{model.__class__.__name__}.log')\n",
    "logger.add(log_file, format=\"{time} - {level} - {message}\")\n",
    "logger.info(f\"Cross-validation technique:{kfold.__class__.__name__},\\\n",
    "            Number of repeats:{kfold.__dict__['n_repeats']},\\\n",
    "            Number of splits:{kfold.__dict__['cvargs']['n_splits']},\\\n",
    "            Time taken:{time.time()-st},\\\n",
    "            ROC-AUC scores:{roc_auc_scores},\\\n",
    "            Mean ROC-AUC score:{np.mean(roc_auc_scores)},\\\n",
    "            Accuracy:{accuracy_scores},\\\n",
    "            Mean accuracy:{np.mean(accuracy_scores)}\")"
   ]
  },
  {
   "cell_type": "code",
   "execution_count": 38,
   "metadata": {},
   "outputs": [],
   "source": [
    "def objective(trial):\n",
    "    return"
   ]
  },
  {
   "cell_type": "markdown",
   "metadata": {},
   "source": [
    "## Random Forest"
   ]
  },
  {
   "cell_type": "code",
   "execution_count": null,
   "metadata": {},
   "outputs": [],
   "source": [
    "# training with no hyperparamater tuning\n",
    "\n",
    "accuracy_scores = []\n",
    "roc_auc_scores = []\n",
    "st = time.time()\n",
    "for train_idx, test_idx in kfold.split(X, y):\n",
    "    \n",
    "    x_train, x_test = X[train_idx], X[test_idx]\n",
    "    y_train, y_test = y[train_idx], y[test_idx]\n",
    "\n",
    "    model = RandomForestClassifier()\n",
    "    model.fit(x_train, y_train.squeeze(1))\n",
    "\n",
    "    y_pred = model.predict(x_test)\n",
    "    y_probs = model.predict_proba(x_test)[:,1]\n",
    "    accuracy = accuracy_score(y_test.squeeze(1), y_pred)\n",
    "    ra_score = roc_auc_score(y_test.squeeze(1), y_probs)\n",
    "\n",
    "    roc_auc_scores.append(ra_score)\n",
    "    accuracy_scores.append(accuracy)\n",
    "\n",
    "print(\"Mean ROC-AUC score:\",np.mean(roc_auc_scores))\n",
    "print(\"Mean accuracy:\",np.mean(accuracy_scores))\n",
    "\n",
    "log_file = os.path.join(log_dir, f'train_{model.__class__.__name__}.log')\n",
    "logger.add(log_file, format=\"{time} - {level} - {message}\")\n",
    "logger.info(f\"Cross-validation technique:{kfold.__class__.__name__},\\\n",
    "            Number of repeats:{kfold.__dict__['n_repeats']},\\\n",
    "            Number of splits:{kfold.__dict__['cvargs']['n_splits']},\\\n",
    "            Time taken:{time.time()-st},\\\n",
    "            ROC-AUC scores:{roc_auc_scores},\\\n",
    "            Mean ROC-AUC score:{np.mean(roc_auc_scores)},\\\n",
    "            Accuracy:{accuracy_scores},\\\n",
    "            Mean accuracy:{np.mean(accuracy_scores)}\")"
   ]
  },
  {
   "cell_type": "code",
   "execution_count": null,
   "metadata": {},
   "outputs": [],
   "source": [
    "def objective(trial):\n",
    "\n",
    "    n_estimators = trial.suggest_int('n_estimators', 100, 1000)\n",
    "    max_depth = trial.suggest_int('max_depth', 1 , 50)\n",
    "    min_samples_split = trial.suggest_int('min_samples_split', 1, 32)\n",
    "    min_samples_leaf = trial.suggest_int('min_samples_leaf', 1, 32)\n",
    "\n",
    "    model = RandomForestClassifier(n_estimators=n_estimators, max_depth=max_depth, min_samples_split=min_samples_split, min_samples_leaf=min_samples_leaf)\n",
    "\n",
    "    rkf = RepeatedStratifiedKFold(n_splits = 5)\n",
    "    score = cross_val_score(model, x_train, y_train.squeeze(1), cv=rkf, scoring='accuracy')\n",
    "\n",
    "    return score\n",
    "\n",
    "\n",
    "study = optuna.create_study(direction='maximize', study_name='xgb_model_training')\n",
    "study.optimize(objective, n_trials=100)"
   ]
  },
  {
   "cell_type": "markdown",
   "metadata": {},
   "source": [
    "## Support-Vector Machines"
   ]
  },
  {
   "cell_type": "code",
   "execution_count": null,
   "metadata": {},
   "outputs": [],
   "source": [
    "# training with no hyperparamater tuning\n",
    "\n",
    "accuracy_scores = []\n",
    "roc_auc_scores = []\n",
    "st = time.time()\n",
    "for train_idx, test_idx in kfold.split(X, y):\n",
    "    \n",
    "    x_train, x_test = X[train_idx], X[test_idx]\n",
    "    y_train, y_test = y[train_idx], y[test_idx]\n",
    "\n",
    "    model = LogisticRegression()\n",
    "    model.fit(x_train, y_train.squeeze(1))\n",
    "\n",
    "    y_pred = model.predict(x_test)\n",
    "    y_probs = model.predict_proba(x_test)[:,1]\n",
    "    accuracy = accuracy_score(y_test.squeeze(1), y_pred)\n",
    "    ra_score = roc_auc_score(y_test.squeeze(1), y_probs)\n",
    "\n",
    "    roc_auc_scores.append(ra_score)\n",
    "    accuracy_scores.append(accuracy)\n",
    "\n",
    "print(\"Mean ROC-AUC score:\",np.mean(roc_auc_scores))\n",
    "print(\"Mean accuracy:\",np.mean(accuracy_scores))\n",
    "\n",
    "log_file = os.path.join(log_dir, f'train_{model.__class__.__name__}.log')\n",
    "logger.add(log_file, format=\"{time} - {level} - {message}\")\n",
    "logger.info(f\"Cross-validation technique:{kfold.__class__.__name__},\\\n",
    "            Number of repeats:{kfold.__dict__['n_repeats']},\\\n",
    "            Number of splits:{kfold.__dict__['cvargs']['n_splits']},\\\n",
    "            Time taken:{time.time()-st},\\\n",
    "            ROC-AUC scores:{roc_auc_scores},\\\n",
    "            Mean ROC-AUC score:{np.mean(roc_auc_scores)},\\\n",
    "            Accuracy:{accuracy_scores},\\\n",
    "            Mean accuracy:{np.mean(accuracy_scores)}\")"
   ]
  },
  {
   "cell_type": "code",
   "execution_count": 37,
   "metadata": {},
   "outputs": [],
   "source": [
    "def objective(trial):\n",
    "    return"
   ]
  },
  {
   "cell_type": "markdown",
   "metadata": {},
   "source": [
    "## K-Nearest Neighbours"
   ]
  },
  {
   "cell_type": "code",
   "execution_count": null,
   "metadata": {},
   "outputs": [],
   "source": [
    "# training with no hyperparamater tuning\n",
    "\n",
    "accuracy_scores = []\n",
    "roc_auc_scores = []\n",
    "st = time.time()\n",
    "for train_idx, test_idx in kfold.split(X, y):\n",
    "    \n",
    "    x_train, x_test = X[train_idx], X[test_idx]\n",
    "    y_train, y_test = y[train_idx], y[test_idx]\n",
    "\n",
    "    model = KNeighborsClassifier()\n",
    "    model.fit(x_train, y_train.squeeze(1))\n",
    "\n",
    "    y_pred = model.predict(x_test)\n",
    "    y_probs = model.predict_proba(x_test)[:,1]\n",
    "    accuracy = accuracy_score(y_test.squeeze(1), y_pred)\n",
    "    ra_score = roc_auc_score(y_test.squeeze(1), y_probs)\n",
    "\n",
    "    roc_auc_scores.append(ra_score)\n",
    "    accuracy_scores.append(accuracy)\n",
    "\n",
    "print(\"Mean ROC-AUC score:\",np.mean(roc_auc_scores))\n",
    "print(\"Mean accuracy:\",np.mean(accuracy_scores))\n",
    "\n",
    "log_file = os.path.join(log_dir, f'train_{model.__class__.__name__}.log')\n",
    "logger.add(log_file, format=\"{time} - {level} - {message}\")\n",
    "logger.info(f\"Cross-validation technique:{kfold.__class__.__name__},\\\n",
    "            Number of repeats:{kfold.__dict__['n_repeats']},\\\n",
    "            Number of splits:{kfold.__dict__['cvargs']['n_splits']},\\\n",
    "            Time taken:{time.time()-st},\\\n",
    "            ROC-AUC scores:{roc_auc_scores},\\\n",
    "            Mean ROC-AUC score:{np.mean(roc_auc_scores)},\\\n",
    "            Accuracy:{accuracy_scores},\\\n",
    "            Mean accuracy:{np.mean(accuracy_scores)}\")"
   ]
  },
  {
   "cell_type": "code",
   "execution_count": null,
   "metadata": {},
   "outputs": [],
   "source": [
    "def objective(trial):\n",
    "    return"
   ]
  },
  {
   "cell_type": "markdown",
   "metadata": {},
   "source": [
    "## Light Gradient Boosting Machine"
   ]
  },
  {
   "cell_type": "code",
   "execution_count": null,
   "metadata": {},
   "outputs": [],
   "source": [
    "#-------------------initial naive implementation, needs a lot more tuning-------------------------------\n",
    "\n",
    "# training with no hyperparamater tuning\n",
    "\n",
    "accuracy_scores = []\n",
    "roc_auc_scores = []\n",
    "st = time.time()\n",
    "for train_idx, test_idx in kfold.split(X, y):\n",
    "    \n",
    "    x_train, x_test = X[train_idx], X[test_idx]\n",
    "    y_train, y_test = y[train_idx], y[test_idx]\n",
    "\n",
    "    model = lgb(n_estimators=1200, random_state=42, learning_rate = 0.01,reg_lambda=50, min_child_samples=2400, num_leaves=95, colsample_bytree=0.19, max_bins=65, device='gpu')\n",
    "    model.fit(x_train, y_train.squeeze(1))\n",
    "\n",
    "    y_pred = model.predict(x_test)\n",
    "    y_probs = model.predict_proba(x_test)[:,1]\n",
    "    accuracy = accuracy_score(y_test.squeeze(1), y_pred)\n",
    "    ra_score = roc_auc_score(y_test.squeeze(1), y_probs)\n",
    "\n",
    "    roc_auc_scores.append(ra_score)\n",
    "    accuracy_scores.append(accuracy)\n",
    "\n",
    "print(\"Mean ROC-AUC score:\",np.mean(roc_auc_scores))\n",
    "print(\"Mean accuracy:\",np.mean(accuracy_scores))\n",
    "\n",
    "log_file = os.path.join(log_dir, f'train_{model.__class__.__name__}.log')\n",
    "logger.add(log_file, format=\"{time} - {level} - {message}\")\n",
    "logger.info(f\"Cross-validation technique:{kfold.__class__.__name__},\\\n",
    "            Number of repeats:{kfold.__dict__['n_repeats']},\\\n",
    "            Number of splits:{kfold.__dict__['cvargs']['n_splits']},\\\n",
    "            Time taken:{time.time()-st},\\\n",
    "            ROC-AUC scores:{roc_auc_scores},\\\n",
    "            Mean ROC-AUC score:{np.mean(roc_auc_scores)},\\\n",
    "            Accuracy:{accuracy_scores},\\\n",
    "            Mean accuracy:{np.mean(accuracy_scores)}\")"
   ]
  },
  {
   "cell_type": "code",
   "execution_count": null,
   "metadata": {},
   "outputs": [],
   "source": [
    "#check overfitting\n",
    "y_pred_train = model.predict(x_train)\n",
    "acc_train = accuracy_score(y_train, y_pred_train)\n",
    "print(accuracy, acc_train)"
   ]
  },
  {
   "cell_type": "code",
   "execution_count": null,
   "metadata": {},
   "outputs": [],
   "source": [
    "def objective(trial):\n",
    "    return"
   ]
  },
  {
   "cell_type": "markdown",
   "metadata": {},
   "source": [
    "## Extreme Gradient Boosting Machine"
   ]
  },
  {
   "cell_type": "code",
   "execution_count": null,
   "metadata": {},
   "outputs": [],
   "source": [
    "#-------------------initial naive implementation, needs a lot more tuning-------------------------------\n",
    "\n",
    "accuracy_scores = []\n",
    "roc_auc_scores = []\n",
    "st = time.time()\n",
    "for train_idx, test_idx in kfold.split(X, y):\n",
    "    \n",
    "    x_train, x_test = X[train_idx], X[test_idx]\n",
    "    y_train, y_test = y[train_idx], y[test_idx]\n",
    "\n",
    "    model = xgb(n_estimators=1000, learning_rate=0.05, early_stopping_rounds=5, device='gpu')\n",
    "    model.fit(x_train, y_train.squeeze(1))\n",
    "\n",
    "    y_pred = model.predict(x_test)\n",
    "    y_probs = model.predict_proba(x_test)[:,1]\n",
    "    accuracy = accuracy_score(y_test.squeeze(1), y_pred)\n",
    "    ra_score = roc_auc_score(y_test.squeeze(1), y_probs)\n",
    "\n",
    "    roc_auc_scores.append(ra_score)\n",
    "    accuracy_scores.append(accuracy)\n",
    "\n",
    "print(\"Mean ROC-AUC score:\",np.mean(roc_auc_scores))\n",
    "print(\"Mean accuracy:\",np.mean(accuracy_scores))\n",
    "\n",
    "log_file = os.path.join(log_dir, f'train_{model.__class__.__name__}.log')\n",
    "logger.add(log_file, format=\"{time} - {level} - {message}\")\n",
    "logger.info(f\"Cross-validation technique:{kfold.__class__.__name__},\\\n",
    "            Number of repeats:{kfold.__dict__['n_repeats']},\\\n",
    "            Number of splits:{kfold.__dict__['cvargs']['n_splits']},\\\n",
    "            Time taken:{time.time()-st},\\\n",
    "            ROC-AUC scores:{roc_auc_scores},\\\n",
    "            Mean ROC-AUC score:{np.mean(roc_auc_scores)},\\\n",
    "            Accuracy:{accuracy_scores},\\\n",
    "            Mean accuracy:{np.mean(accuracy_scores)}\")"
   ]
  },
  {
   "cell_type": "code",
   "execution_count": null,
   "metadata": {},
   "outputs": [],
   "source": [
    "def objective(trial):\n",
    "    params = {\n",
    "        'booster': trial.suggest_categorical('booster', ['gbtree','gblinear']),\n",
    "        'device': 'cuda',\n",
    "        'grow_policy': trial.suggest_categorical('grow_policy', ['depthwise','lossguide']),\n",
    "        'learning_rate': trial.suggest_float('learning_rate', 0.005, 0.1),\n",
    "        'gamma' : trial.suggest_float('gamma', 1e-5, 0.5, log=True),\n",
    "        'subsample': trial.suggest_float('subsample', 0.3, 1.0),\n",
    "        'colsample_bytree': trial.suggest_float('colsample_bytree', 0.3, 1.0),\n",
    "        'max_depth': trial.suggest_int('max_depth', 3, 15),\n",
    "        'min_child_weight': trial.suggest_int('min_child_weight', 1, 7),\n",
    "        'lambda': trial.suggest_float('lambda', 1e-3, 10.0, log=True),\n",
    "        'alpha': trial.suggest_float('alpha', 1e-3, 10.0, log=True),\n",
    "    }\n",
    "\n",
    "    params['n_estimators'] = 3000\n",
    "    params['early_stopping_rounds'] = 50\n",
    "    params['booster'] = 'gbtree'\n",
    "    params[\"verbosity\"] = 0\n",
    "    params['tree_method'] = \"hist\"\n",
    "    \n",
    "    auc_scores = []\n",
    "\n",
    "    for train_idx, valid_idx in cv.split(X, y):\n",
    "\n",
    "        X_train_fold, X_valid_fold = pd.DataFrame(X).iloc[train_idx], pd.DataFrame(X).iloc[valid_idx]\n",
    "        y_train_fold, y_valid_fold = pd.Series(y.squeeze(1)).iloc[train_idx], pd.Series(y.squeeze(1)).iloc[valid_idx]\n",
    "                \n",
    "        # Create and fit the model\n",
    "        model = xgb(**params)\n",
    "        model.fit(X_train_fold, y_train_fold, eval_set=[(X_valid_fold, y_valid_fold)],verbose=False)\n",
    "\n",
    "        # Predict class probabilities\n",
    "        y_prob = model.predict_proba(X_valid_fold)\n",
    "\n",
    "        # Compute the AUC for each class and take the average\n",
    "        average_auc = roc_auc_score(pd.Series(y.squeeze(1)).iloc[valid_idx], y_prob.squeeze(1), multi_class=\"ovr\", average=\"macro\")\n",
    "        auc_scores.append(average_auc)\n",
    "\n",
    "    # Return the average AUC score across all folds\n",
    "    return np.mean(auc_scores)\n",
    "\n",
    "study = optuna.create_study(direction='maximize', study_name='xgb_model_training')\n",
    "study.optimize(objective, n_trials=200)"
   ]
  }
 ],
 "metadata": {
  "kernelspec": {
   "display_name": ".venv",
   "language": "python",
   "name": "python3"
  },
  "language_info": {
   "codemirror_mode": {
    "name": "ipython",
    "version": 3
   },
   "file_extension": ".py",
   "mimetype": "text/x-python",
   "name": "python",
   "nbconvert_exporter": "python",
   "pygments_lexer": "ipython3",
   "version": "3.10.0"
  }
 },
 "nbformat": 4,
 "nbformat_minor": 2
}
