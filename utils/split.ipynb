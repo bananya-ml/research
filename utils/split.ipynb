{
 "cells": [
  {
   "cell_type": "code",
   "execution_count": 1,
   "metadata": {},
   "outputs": [],
   "source": [
    "import pandas as pd\n",
    "from sklearn.model_selection import train_test_split\n",
    "\n",
    "import glob\n",
    "from astropy.io.votable import parse_single_table\n",
    "import numpy as np"
   ]
  },
  {
   "cell_type": "code",
   "execution_count": 3,
   "metadata": {},
   "outputs": [],
   "source": [
    "flux_df = pd.read_parquet('../data/Gaia DR3/combined/df_xp.parquet')\n",
    "flux_data_files = glob.glob('../data/Gaia DR3/spectra/XP/*.vot')\n",
    "\n",
    "source_id_to_flux = {}\n",
    "\n",
    "for f in flux_data_files:\n",
    "    source_id = int(f.split('_')[-1].split('.')[0])\n",
    "    \n",
    "    data = parse_single_table(f).to_table().to_pandas()\n",
    "    flux = data['flux'].to_numpy()\n",
    "    source_id_to_flux[source_id] = flux\n",
    "flux_df['flux'] = flux_df['source_id'].map(source_id_to_flux)\n",
    "\n",
    "flux_df.to_parquet('../data/Gaia DR3/combined/massive_xp.parquet')"
   ]
  },
  {
   "cell_type": "code",
   "execution_count": 4,
   "metadata": {},
   "outputs": [
    {
     "data": {
      "text/plain": [
       "(23636, 7)"
      ]
     },
     "execution_count": 4,
     "metadata": {},
     "output_type": "execute_result"
    }
   ],
   "source": [
    "flux_df.shape"
   ]
  },
  {
   "cell_type": "code",
   "execution_count": 6,
   "metadata": {},
   "outputs": [
    {
     "data": {
      "text/plain": [
       "Index(['source_id', 'teff_gspphot', 'logg_gspphot', 'mh_gspphot',\n",
       "       'spectraltype_esphs', 'Cat', 'flux'],\n",
       "      dtype='object')"
      ]
     },
     "execution_count": 6,
     "metadata": {},
     "output_type": "execute_result"
    }
   ],
   "source": [
    "flux_df.columns"
   ]
  },
  {
   "cell_type": "code",
   "execution_count": 5,
   "metadata": {},
   "outputs": [
    {
     "data": {
      "text/plain": [
       "Cat\n",
       "M     11909\n",
       "LM    11727\n",
       "Name: count, dtype: int64"
      ]
     },
     "execution_count": 5,
     "metadata": {},
     "output_type": "execute_result"
    }
   ],
   "source": [
    "flux_df['Cat'].value_counts()"
   ]
  },
  {
   "cell_type": "code",
   "execution_count": null,
   "metadata": {},
   "outputs": [],
   "source": [
    "ap_df = flux_df.drop(columns=['flux', 'Cat', 'spectraltype_esphs'])\n",
    "bin_cat_df = flux_df.drop(columns=[ 'teff_gspphot', 'logg_gspphot', 'mh_gspphot'])"
   ]
  },
  {
   "cell_type": "code",
   "execution_count": 27,
   "metadata": {},
   "outputs": [
    {
     "data": {
      "text/html": [
       "<div>\n",
       "<style scoped>\n",
       "    .dataframe tbody tr th:only-of-type {\n",
       "        vertical-align: middle;\n",
       "    }\n",
       "\n",
       "    .dataframe tbody tr th {\n",
       "        vertical-align: top;\n",
       "    }\n",
       "\n",
       "    .dataframe thead th {\n",
       "        text-align: right;\n",
       "    }\n",
       "</style>\n",
       "<table border=\"1\" class=\"dataframe\">\n",
       "  <thead>\n",
       "    <tr style=\"text-align: right;\">\n",
       "      <th></th>\n",
       "      <th>source_id</th>\n",
       "      <th>spectraltype_esphs</th>\n",
       "      <th>Cat</th>\n",
       "      <th>flux</th>\n",
       "    </tr>\n",
       "  </thead>\n",
       "  <tbody>\n",
       "  </tbody>\n",
       "</table>\n",
       "</div>"
      ],
      "text/plain": [
       "Empty DataFrame\n",
       "Columns: [source_id, spectraltype_esphs, Cat, flux]\n",
       "Index: []"
      ]
     },
     "execution_count": 27,
     "metadata": {},
     "output_type": "execute_result"
    }
   ],
   "source": [
    "missing_rows = bin_cat_df[bin_cat_df.isnull().any(axis=1)]\n",
    "missing_rows"
   ]
  },
  {
   "cell_type": "code",
   "execution_count": 14,
   "metadata": {},
   "outputs": [],
   "source": [
    "train_df, test_df = train_test_split(ap_df, test_size=0.2)\n",
    "\n",
    "train_df.reset_index(drop=True).to_parquet('../data/Gaia DR3/splits/ap/ap_train.parquet')\n",
    "test_df.reset_index(drop=True).to_parquet('../data/Gaia DR3/splits/ap/ap_test.parquet')\n",
    "train_df.reset_index(drop=True).to_csv('../data/Gaia DR3/splits/ap/ap_train.csv')\n",
    "test_df.reset_index(drop=True).to_csv('../data/Gaia DR3/splits/ap/ap_test.csv')"
   ]
  },
  {
   "cell_type": "code",
   "execution_count": 29,
   "metadata": {},
   "outputs": [],
   "source": [
    "train_df, test_df = train_test_split(bin_cat_df, test_size=0.2, stratify=bin_cat_df['Cat'])\n",
    "\n",
    "train_df.reset_index(drop=True).to_parquet('../data/Gaia DR3/splits/bin_clf/bin_cat_train.parquet')\n",
    "test_df.reset_index(drop=True).to_parquet('../data/Gaia DR3/splits/bin_clf/bin_cat_test.parquet')\n",
    "train_df.reset_index(drop=True).to_csv('../data/Gaia DR3/splits/bin_clf/bin_cat_train.csv')\n",
    "test_df.reset_index(drop=True).to_csv('../data/Gaia DR3/splits/bin_clf/bin_cat_test.csv')"
   ]
  }
 ],
 "metadata": {
  "kernelspec": {
   "display_name": ".venv",
   "language": "python",
   "name": "python3"
  },
  "language_info": {
   "codemirror_mode": {
    "name": "ipython",
    "version": 3
   },
   "file_extension": ".py",
   "mimetype": "text/x-python",
   "name": "python",
   "nbconvert_exporter": "python",
   "pygments_lexer": "ipython3",
   "version": "3.10.0"
  }
 },
 "nbformat": 4,
 "nbformat_minor": 2
}
