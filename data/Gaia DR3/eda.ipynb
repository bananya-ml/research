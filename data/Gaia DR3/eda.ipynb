{
 "cells": [
  {
   "cell_type": "code",
   "execution_count": 2,
   "metadata": {},
   "outputs": [],
   "source": [
    "import pandas as pd\n",
    "import matplotlib.pyplot as plt\n",
    "import glob\n",
    "from astropy.io.votable import parse_single_table\n",
    "from astropy.table import Table\n",
    "from astropy.io import ascii"
   ]
  },
  {
   "cell_type": "code",
   "execution_count": null,
   "metadata": {},
   "outputs": [],
   "source": [
    "random_sources = './external/XpSampledMeanSpectrum_003112-005263.csv'"
   ]
  },
  {
   "cell_type": "code",
   "execution_count": null,
   "metadata": {},
   "outputs": [
    {
     "data": {
      "text/html": [
       "<div>\n",
       "<style scoped>\n",
       "    .dataframe tbody tr th:only-of-type {\n",
       "        vertical-align: middle;\n",
       "    }\n",
       "\n",
       "    .dataframe tbody tr th {\n",
       "        vertical-align: top;\n",
       "    }\n",
       "\n",
       "    .dataframe thead th {\n",
       "        text-align: right;\n",
       "    }\n",
       "</style>\n",
       "<table border=\"1\" class=\"dataframe\">\n",
       "  <thead>\n",
       "    <tr style=\"text-align: right;\">\n",
       "      <th></th>\n",
       "      <th>source_id</th>\n",
       "      <th>solution_id</th>\n",
       "      <th>ra</th>\n",
       "      <th>dec</th>\n",
       "      <th>flux</th>\n",
       "      <th>flux_error</th>\n",
       "    </tr>\n",
       "  </thead>\n",
       "  <tbody>\n",
       "    <tr>\n",
       "      <th>0</th>\n",
       "      <td>27373823737813120</td>\n",
       "      <td>4545469030156206081</td>\n",
       "      <td>43.925368</td>\n",
       "      <td>10.545138</td>\n",
       "      <td>[1.4238501E-16,1.3138286E-16,1.2891419E-16,1.2...</td>\n",
       "      <td>[2.2848512E-17,1.6886805E-17,1.3896489E-17,1.2...</td>\n",
       "    </tr>\n",
       "    <tr>\n",
       "      <th>1</th>\n",
       "      <td>27373823737813376</td>\n",
       "      <td>4545469030156206080</td>\n",
       "      <td>43.917838</td>\n",
       "      <td>10.546805</td>\n",
       "      <td>[5.0583084E-17,5.220117E-17,3.6560953E-17,3.10...</td>\n",
       "      <td>[1.0846855E-17,8.075001E-18,6.6375243E-18,5.82...</td>\n",
       "    </tr>\n",
       "    <tr>\n",
       "      <th>2</th>\n",
       "      <td>27376366358445696</td>\n",
       "      <td>4545469030156206081</td>\n",
       "      <td>44.114780</td>\n",
       "      <td>10.653418</td>\n",
       "      <td>[5.6101374E-17,5.4696488E-17,5.2999695E-17,5.0...</td>\n",
       "      <td>[8.971559E-18,6.493577E-18,5.1455428E-18,4.312...</td>\n",
       "    </tr>\n",
       "    <tr>\n",
       "      <th>3</th>\n",
       "      <td>27377976970918912</td>\n",
       "      <td>4545469030156206080</td>\n",
       "      <td>43.872819</td>\n",
       "      <td>10.604958</td>\n",
       "      <td>[9.444985E-17,9.6611374E-17,8.816123E-17,7.829...</td>\n",
       "      <td>[3.833282E-17,2.781391E-17,2.3202214E-17,1.999...</td>\n",
       "    </tr>\n",
       "    <tr>\n",
       "      <th>4</th>\n",
       "      <td>27378049985631360</td>\n",
       "      <td>4545469030156206081</td>\n",
       "      <td>43.877723</td>\n",
       "      <td>10.616233</td>\n",
       "      <td>[4.5930266E-17,3.3169387E-17,3.3330465E-17,3.7...</td>\n",
       "      <td>[9.230113E-18,6.65004E-18,5.462669E-18,4.71095...</td>\n",
       "    </tr>\n",
       "    <tr>\n",
       "      <th>...</th>\n",
       "      <td>...</td>\n",
       "      <td>...</td>\n",
       "      <td>...</td>\n",
       "      <td>...</td>\n",
       "      <td>...</td>\n",
       "      <td>...</td>\n",
       "    </tr>\n",
       "    <tr>\n",
       "      <th>22053</th>\n",
       "      <td>46297243487580288</td>\n",
       "      <td>4545469030156206081</td>\n",
       "      <td>60.521736</td>\n",
       "      <td>16.793724</td>\n",
       "      <td>[9.937592E-17,8.268048E-17,7.8873624E-17,7.819...</td>\n",
       "      <td>[2.3343943E-17,1.9476336E-17,1.4384476E-17,1.3...</td>\n",
       "    </tr>\n",
       "    <tr>\n",
       "      <th>22054</th>\n",
       "      <td>46297690163773440</td>\n",
       "      <td>4545469030156206080</td>\n",
       "      <td>60.552377</td>\n",
       "      <td>16.809614</td>\n",
       "      <td>[5.719235E-17,5.3227458E-17,4.7014213E-17,4.16...</td>\n",
       "      <td>[8.277778E-18,6.124786E-18,4.968865E-18,4.2158...</td>\n",
       "    </tr>\n",
       "    <tr>\n",
       "      <th>22055</th>\n",
       "      <td>46299064553273600</td>\n",
       "      <td>4545469030156206080</td>\n",
       "      <td>60.399676</td>\n",
       "      <td>16.793593</td>\n",
       "      <td>[2.5005845E-17,1.3638129E-17,9.040504E-18,1.05...</td>\n",
       "      <td>[8.170095E-18,6.1785143E-18,4.9518717E-18,4.40...</td>\n",
       "    </tr>\n",
       "    <tr>\n",
       "      <th>22056</th>\n",
       "      <td>46301126137608192</td>\n",
       "      <td>4545469030156206081</td>\n",
       "      <td>60.538519</td>\n",
       "      <td>16.874781</td>\n",
       "      <td>[1.7408699E-16,1.504176E-16,1.59273E-16,1.6169...</td>\n",
       "      <td>[8.550014E-17,6.823445E-17,5.9123065E-17,5.502...</td>\n",
       "    </tr>\n",
       "    <tr>\n",
       "      <th>22057</th>\n",
       "      <td>46302225649201408</td>\n",
       "      <td>4545469030156206080</td>\n",
       "      <td>60.489952</td>\n",
       "      <td>16.914873</td>\n",
       "      <td>[4.1346937E-17,5.3269313E-17,4.8477416E-17,3.6...</td>\n",
       "      <td>[9.667136E-18,6.9357634E-18,5.641577E-18,4.873...</td>\n",
       "    </tr>\n",
       "  </tbody>\n",
       "</table>\n",
       "<p>22058 rows × 6 columns</p>\n",
       "</div>"
      ],
      "text/plain": [
       "               source_id          solution_id         ra        dec  \\\n",
       "0      27373823737813120  4545469030156206081  43.925368  10.545138   \n",
       "1      27373823737813376  4545469030156206080  43.917838  10.546805   \n",
       "2      27376366358445696  4545469030156206081  44.114780  10.653418   \n",
       "3      27377976970918912  4545469030156206080  43.872819  10.604958   \n",
       "4      27378049985631360  4545469030156206081  43.877723  10.616233   \n",
       "...                  ...                  ...        ...        ...   \n",
       "22053  46297243487580288  4545469030156206081  60.521736  16.793724   \n",
       "22054  46297690163773440  4545469030156206080  60.552377  16.809614   \n",
       "22055  46299064553273600  4545469030156206080  60.399676  16.793593   \n",
       "22056  46301126137608192  4545469030156206081  60.538519  16.874781   \n",
       "22057  46302225649201408  4545469030156206080  60.489952  16.914873   \n",
       "\n",
       "                                                    flux  \\\n",
       "0      [1.4238501E-16,1.3138286E-16,1.2891419E-16,1.2...   \n",
       "1      [5.0583084E-17,5.220117E-17,3.6560953E-17,3.10...   \n",
       "2      [5.6101374E-17,5.4696488E-17,5.2999695E-17,5.0...   \n",
       "3      [9.444985E-17,9.6611374E-17,8.816123E-17,7.829...   \n",
       "4      [4.5930266E-17,3.3169387E-17,3.3330465E-17,3.7...   \n",
       "...                                                  ...   \n",
       "22053  [9.937592E-17,8.268048E-17,7.8873624E-17,7.819...   \n",
       "22054  [5.719235E-17,5.3227458E-17,4.7014213E-17,4.16...   \n",
       "22055  [2.5005845E-17,1.3638129E-17,9.040504E-18,1.05...   \n",
       "22056  [1.7408699E-16,1.504176E-16,1.59273E-16,1.6169...   \n",
       "22057  [4.1346937E-17,5.3269313E-17,4.8477416E-17,3.6...   \n",
       "\n",
       "                                              flux_error  \n",
       "0      [2.2848512E-17,1.6886805E-17,1.3896489E-17,1.2...  \n",
       "1      [1.0846855E-17,8.075001E-18,6.6375243E-18,5.82...  \n",
       "2      [8.971559E-18,6.493577E-18,5.1455428E-18,4.312...  \n",
       "3      [3.833282E-17,2.781391E-17,2.3202214E-17,1.999...  \n",
       "4      [9.230113E-18,6.65004E-18,5.462669E-18,4.71095...  \n",
       "...                                                  ...  \n",
       "22053  [2.3343943E-17,1.9476336E-17,1.4384476E-17,1.3...  \n",
       "22054  [8.277778E-18,6.124786E-18,4.968865E-18,4.2158...  \n",
       "22055  [8.170095E-18,6.1785143E-18,4.9518717E-18,4.40...  \n",
       "22056  [8.550014E-17,6.823445E-17,5.9123065E-17,5.502...  \n",
       "22057  [9.667136E-18,6.9357634E-18,5.641577E-18,4.873...  \n",
       "\n",
       "[22058 rows x 6 columns]"
      ]
     },
     "execution_count": 3,
     "metadata": {},
     "output_type": "execute_result"
    }
   ],
   "source": [
    "temp = ascii.read(random_sources, guess=False, delimiter=',').to_pandas()\n",
    "temp"
   ]
  },
  {
   "cell_type": "code",
   "execution_count": 5,
   "metadata": {},
   "outputs": [],
   "source": [
    "rvs_dir = './spectra/RVS'\n",
    "xp_dir = './spectra/XP'\n",
    "labels_file = './queries/labels.csv'\n",
    "labels_df = pd.read_csv(labels_file)\n",
    "df = parse_single_table('./queries/DR3 sources-result.vot').to_table().to_pandas()\n",
    "df_dr2 = parse_single_table('./queries/DR2_DR3_sources-result.vot').to_table().to_pandas()"
   ]
  },
  {
   "cell_type": "code",
   "execution_count": 6,
   "metadata": {},
   "outputs": [
    {
     "data": {
      "text/plain": [
       "(15664, 16)"
      ]
     },
     "execution_count": 6,
     "metadata": {},
     "output_type": "execute_result"
    }
   ],
   "source": [
    "df.shape"
   ]
  },
  {
   "cell_type": "code",
   "execution_count": 7,
   "metadata": {},
   "outputs": [
    {
     "data": {
      "text/plain": [
       "(15661, 16)"
      ]
     },
     "execution_count": 7,
     "metadata": {},
     "output_type": "execute_result"
    }
   ],
   "source": [
    "df.sort_values('ang_sep', ascending=True, inplace=True)\n",
    "df.drop_duplicates('source_id', keep='first', inplace=True)\n",
    "df.shape"
   ]
  },
  {
   "cell_type": "code",
   "execution_count": 8,
   "metadata": {},
   "outputs": [
    {
     "data": {
      "text/plain": [
       "Index(['source_id', 'source_id_2', 'ra', 'dec', 'parallax',\n",
       "       'parallax_over_error', 'ruwe', 'has_xp_sampled', 'has_rvs',\n",
       "       'teff_gspphot', 'logg_gspphot', 'mh_gspphot',\n",
       "       'classprob_dsc_combmod_star', 'classprob_dsc_specmod_star',\n",
       "       'spectraltype_esphs', 'ang_sep'],\n",
       "      dtype='object')"
      ]
     },
     "execution_count": 8,
     "metadata": {},
     "output_type": "execute_result"
    }
   ],
   "source": [
    "df.columns"
   ]
  },
  {
   "cell_type": "code",
   "execution_count": 9,
   "metadata": {},
   "outputs": [
    {
     "data": {
      "text/plain": [
       "(15661, 14)"
      ]
     },
     "execution_count": 9,
     "metadata": {},
     "output_type": "execute_result"
    }
   ],
   "source": [
    "df.drop(['source_id', 'ang_sep'], axis = 1, inplace = True)\n",
    "df.rename(columns={'source_id_2': 'source_id'}, inplace=True)\n",
    "df.shape"
   ]
  },
  {
   "cell_type": "code",
   "execution_count": 10,
   "metadata": {},
   "outputs": [
    {
     "data": {
      "text/plain": [
       "(14420, 14)"
      ]
     },
     "execution_count": 10,
     "metadata": {},
     "output_type": "execute_result"
    }
   ],
   "source": [
    "df.drop(df[df['ruwe']>1.4].index, inplace=True)\n",
    "df.shape"
   ]
  },
  {
   "cell_type": "code",
   "execution_count": 11,
   "metadata": {},
   "outputs": [
    {
     "data": {
      "text/plain": [
       "(14415, 14)"
      ]
     },
     "execution_count": 11,
     "metadata": {},
     "output_type": "execute_result"
    }
   ],
   "source": [
    "df.drop(df[df['parallax'].isnull()].index, inplace=True)\n",
    "df.shape"
   ]
  },
  {
   "cell_type": "code",
   "execution_count": 12,
   "metadata": {},
   "outputs": [
    {
     "data": {
      "text/plain": [
       "(14390, 14)"
      ]
     },
     "execution_count": 12,
     "metadata": {},
     "output_type": "execute_result"
    }
   ],
   "source": [
    "df.drop(df[df['parallax_over_error']<3].index, inplace=True)\n",
    "df.shape"
   ]
  },
  {
   "cell_type": "code",
   "execution_count": 13,
   "metadata": {},
   "outputs": [
    {
     "data": {
      "text/plain": [
       "(14390, 7)"
      ]
     },
     "execution_count": 13,
     "metadata": {},
     "output_type": "execute_result"
    }
   ],
   "source": [
    "df.drop(['ra','dec','parallax','parallax_over_error','ruwe','classprob_dsc_combmod_star','classprob_dsc_specmod_star'], axis = 1, inplace = True)\n",
    "df.shape"
   ]
  },
  {
   "cell_type": "code",
   "execution_count": 14,
   "metadata": {},
   "outputs": [
    {
     "data": {
      "text/html": [
       "<div>\n",
       "<style scoped>\n",
       "    .dataframe tbody tr th:only-of-type {\n",
       "        vertical-align: middle;\n",
       "    }\n",
       "\n",
       "    .dataframe tbody tr th {\n",
       "        vertical-align: top;\n",
       "    }\n",
       "\n",
       "    .dataframe thead th {\n",
       "        text-align: right;\n",
       "    }\n",
       "</style>\n",
       "<table border=\"1\" class=\"dataframe\">\n",
       "  <thead>\n",
       "    <tr style=\"text-align: right;\">\n",
       "      <th></th>\n",
       "      <th>source_id</th>\n",
       "      <th>has_xp_sampled</th>\n",
       "      <th>has_rvs</th>\n",
       "      <th>teff_gspphot</th>\n",
       "      <th>logg_gspphot</th>\n",
       "      <th>mh_gspphot</th>\n",
       "      <th>spectraltype_esphs</th>\n",
       "    </tr>\n",
       "  </thead>\n",
       "  <tbody>\n",
       "    <tr>\n",
       "      <th>11289</th>\n",
       "      <td>3327843946315581952</td>\n",
       "      <td>False</td>\n",
       "      <td>False</td>\n",
       "      <td>NaN</td>\n",
       "      <td>NaN</td>\n",
       "      <td>NaN</td>\n",
       "      <td>B</td>\n",
       "    </tr>\n",
       "    <tr>\n",
       "      <th>2893</th>\n",
       "      <td>466475508969557888</td>\n",
       "      <td>True</td>\n",
       "      <td>False</td>\n",
       "      <td>18411.494141</td>\n",
       "      <td>3.5385</td>\n",
       "      <td>-0.3139</td>\n",
       "      <td>B</td>\n",
       "    </tr>\n",
       "    <tr>\n",
       "      <th>11246</th>\n",
       "      <td>3325513363920961408</td>\n",
       "      <td>True</td>\n",
       "      <td>False</td>\n",
       "      <td>16151.836914</td>\n",
       "      <td>3.7164</td>\n",
       "      <td>0.0395</td>\n",
       "      <td>B</td>\n",
       "    </tr>\n",
       "    <tr>\n",
       "      <th>3453</th>\n",
       "      <td>3375508943611375488</td>\n",
       "      <td>True</td>\n",
       "      <td>False</td>\n",
       "      <td>18823.841797</td>\n",
       "      <td>3.4316</td>\n",
       "      <td>0.2918</td>\n",
       "      <td>B</td>\n",
       "    </tr>\n",
       "    <tr>\n",
       "      <th>1954</th>\n",
       "      <td>4063973032805550592</td>\n",
       "      <td>True</td>\n",
       "      <td>False</td>\n",
       "      <td>15295.044922</td>\n",
       "      <td>3.4026</td>\n",
       "      <td>0.0999</td>\n",
       "      <td>G</td>\n",
       "    </tr>\n",
       "    <tr>\n",
       "      <th>...</th>\n",
       "      <td>...</td>\n",
       "      <td>...</td>\n",
       "      <td>...</td>\n",
       "      <td>...</td>\n",
       "      <td>...</td>\n",
       "      <td>...</td>\n",
       "      <td>...</td>\n",
       "    </tr>\n",
       "    <tr>\n",
       "      <th>14293</th>\n",
       "      <td>5940492348053213824</td>\n",
       "      <td>True</td>\n",
       "      <td>False</td>\n",
       "      <td>NaN</td>\n",
       "      <td>NaN</td>\n",
       "      <td>NaN</td>\n",
       "      <td>K</td>\n",
       "    </tr>\n",
       "    <tr>\n",
       "      <th>3007</th>\n",
       "      <td>244931509471430784</td>\n",
       "      <td>True</td>\n",
       "      <td>False</td>\n",
       "      <td>6397.112793</td>\n",
       "      <td>4.0006</td>\n",
       "      <td>-1.7602</td>\n",
       "      <td>F</td>\n",
       "    </tr>\n",
       "    <tr>\n",
       "      <th>6519</th>\n",
       "      <td>458558784733311232</td>\n",
       "      <td>True</td>\n",
       "      <td>False</td>\n",
       "      <td>NaN</td>\n",
       "      <td>NaN</td>\n",
       "      <td>NaN</td>\n",
       "      <td>B</td>\n",
       "    </tr>\n",
       "    <tr>\n",
       "      <th>7257</th>\n",
       "      <td>5781114426684039168</td>\n",
       "      <td>True</td>\n",
       "      <td>False</td>\n",
       "      <td>NaN</td>\n",
       "      <td>NaN</td>\n",
       "      <td>NaN</td>\n",
       "      <td>M</td>\n",
       "    </tr>\n",
       "    <tr>\n",
       "      <th>3960</th>\n",
       "      <td>4287563429535052416</td>\n",
       "      <td>False</td>\n",
       "      <td>False</td>\n",
       "      <td>6511.672852</td>\n",
       "      <td>4.2558</td>\n",
       "      <td>-2.3577</td>\n",
       "      <td>F</td>\n",
       "    </tr>\n",
       "  </tbody>\n",
       "</table>\n",
       "<p>14390 rows × 7 columns</p>\n",
       "</div>"
      ],
      "text/plain": [
       "                 source_id  has_xp_sampled  has_rvs  teff_gspphot  \\\n",
       "11289  3327843946315581952           False    False           NaN   \n",
       "2893    466475508969557888            True    False  18411.494141   \n",
       "11246  3325513363920961408            True    False  16151.836914   \n",
       "3453   3375508943611375488            True    False  18823.841797   \n",
       "1954   4063973032805550592            True    False  15295.044922   \n",
       "...                    ...             ...      ...           ...   \n",
       "14293  5940492348053213824            True    False           NaN   \n",
       "3007    244931509471430784            True    False   6397.112793   \n",
       "6519    458558784733311232            True    False           NaN   \n",
       "7257   5781114426684039168            True    False           NaN   \n",
       "3960   4287563429535052416           False    False   6511.672852   \n",
       "\n",
       "       logg_gspphot  mh_gspphot spectraltype_esphs  \n",
       "11289           NaN         NaN                  B  \n",
       "2893         3.5385     -0.3139                  B  \n",
       "11246        3.7164      0.0395                  B  \n",
       "3453         3.4316      0.2918                  B  \n",
       "1954         3.4026      0.0999                  G  \n",
       "...             ...         ...                ...  \n",
       "14293           NaN         NaN                  K  \n",
       "3007         4.0006     -1.7602                  F  \n",
       "6519            NaN         NaN                  B  \n",
       "7257            NaN         NaN                  M  \n",
       "3960         4.2558     -2.3577                  F  \n",
       "\n",
       "[14390 rows x 7 columns]"
      ]
     },
     "execution_count": 14,
     "metadata": {},
     "output_type": "execute_result"
    }
   ],
   "source": [
    "df"
   ]
  },
  {
   "cell_type": "markdown",
   "metadata": {},
   "source": [
    "## Merging data with labels"
   ]
  },
  {
   "cell_type": "markdown",
   "metadata": {},
   "source": [
    "Our first step is to merge the data and the labels."
   ]
  },
  {
   "cell_type": "markdown",
   "metadata": {},
   "source": [
    "The paper "
   ]
  },
  {
   "cell_type": "markdown",
   "metadata": {},
   "source": [
    "## Combine data files and labels into a single dataset "
   ]
  },
  {
   "cell_type": "code",
   "execution_count": 15,
   "metadata": {},
   "outputs": [
    {
     "data": {
      "text/html": [
       "<div>\n",
       "<style scoped>\n",
       "    .dataframe tbody tr th:only-of-type {\n",
       "        vertical-align: middle;\n",
       "    }\n",
       "\n",
       "    .dataframe tbody tr th {\n",
       "        vertical-align: top;\n",
       "    }\n",
       "\n",
       "    .dataframe thead th {\n",
       "        text-align: right;\n",
       "    }\n",
       "</style>\n",
       "<table border=\"1\" class=\"dataframe\">\n",
       "  <thead>\n",
       "    <tr style=\"text-align: right;\">\n",
       "      <th></th>\n",
       "      <th>Cat</th>\n",
       "      <th>ID_ALS</th>\n",
       "      <th>ID_DR2</th>\n",
       "    </tr>\n",
       "  </thead>\n",
       "  <tbody>\n",
       "    <tr>\n",
       "      <th>0</th>\n",
       "      <td>M</td>\n",
       "      <td>1</td>\n",
       "      <td>3400904642850801792</td>\n",
       "    </tr>\n",
       "    <tr>\n",
       "      <th>1</th>\n",
       "      <td>M</td>\n",
       "      <td>2</td>\n",
       "      <td>3398880716823578368</td>\n",
       "    </tr>\n",
       "    <tr>\n",
       "      <th>2</th>\n",
       "      <td>M</td>\n",
       "      <td>3</td>\n",
       "      <td>3398822751945120128</td>\n",
       "    </tr>\n",
       "    <tr>\n",
       "      <th>3</th>\n",
       "      <td>M</td>\n",
       "      <td>4</td>\n",
       "      <td>3350097928520768640</td>\n",
       "    </tr>\n",
       "    <tr>\n",
       "      <th>4</th>\n",
       "      <td>M</td>\n",
       "      <td>5</td>\n",
       "      <td>3398557735283620224</td>\n",
       "    </tr>\n",
       "    <tr>\n",
       "      <th>...</th>\n",
       "      <td>...</td>\n",
       "      <td>...</td>\n",
       "      <td>...</td>\n",
       "    </tr>\n",
       "    <tr>\n",
       "      <th>15657</th>\n",
       "      <td>I</td>\n",
       "      <td>20143</td>\n",
       "      <td>4146600472558819200</td>\n",
       "    </tr>\n",
       "    <tr>\n",
       "      <th>15658</th>\n",
       "      <td>I</td>\n",
       "      <td>20145</td>\n",
       "      <td>4146598818993604480</td>\n",
       "    </tr>\n",
       "    <tr>\n",
       "      <th>15659</th>\n",
       "      <td>I</td>\n",
       "      <td>20147</td>\n",
       "      <td>4146600399547025280</td>\n",
       "    </tr>\n",
       "    <tr>\n",
       "      <th>15660</th>\n",
       "      <td>M</td>\n",
       "      <td>20151</td>\n",
       "      <td>5940106793062992128</td>\n",
       "    </tr>\n",
       "    <tr>\n",
       "      <th>15661</th>\n",
       "      <td>M</td>\n",
       "      <td>20164</td>\n",
       "      <td>5940106002789009536</td>\n",
       "    </tr>\n",
       "  </tbody>\n",
       "</table>\n",
       "<p>15662 rows × 3 columns</p>\n",
       "</div>"
      ],
      "text/plain": [
       "      Cat  ID_ALS               ID_DR2\n",
       "0       M       1  3400904642850801792\n",
       "1       M       2  3398880716823578368\n",
       "2       M       3  3398822751945120128\n",
       "3       M       4  3350097928520768640\n",
       "4       M       5  3398557735283620224\n",
       "...    ..     ...                  ...\n",
       "15657   I   20143  4146600472558819200\n",
       "15658   I   20145  4146598818993604480\n",
       "15659   I   20147  4146600399547025280\n",
       "15660   M   20151  5940106793062992128\n",
       "15661   M   20164  5940106002789009536\n",
       "\n",
       "[15662 rows x 3 columns]"
      ]
     },
     "execution_count": 15,
     "metadata": {},
     "output_type": "execute_result"
    }
   ],
   "source": [
    "labels_df = pd.read_csv(labels_file)\n",
    "labels_df"
   ]
  },
  {
   "cell_type": "markdown",
   "metadata": {},
   "source": [
    "According to the paper\n",
    "\n",
    "* M - Likely massive star\n",
    "* I - High/intermediate mass star\n",
    "* L - Low mass star\n",
    "* E - Extragalactic star\n",
    "* H - High gravity star"
   ]
  },
  {
   "cell_type": "code",
   "execution_count": 16,
   "metadata": {},
   "outputs": [
    {
     "data": {
      "text/plain": [
       "array(['M', 'H', 'I', 'L', 'E'], dtype=object)"
      ]
     },
     "execution_count": 16,
     "metadata": {},
     "output_type": "execute_result"
    }
   ],
   "source": [
    "labels_df['Cat'].unique()"
   ]
  },
  {
   "cell_type": "code",
   "execution_count": 17,
   "metadata": {},
   "outputs": [],
   "source": [
    "labels_df.drop('ID_ALS', axis=1, inplace=True)\n",
    "labels_df.rename(columns={'ID_DR2': 'source_id'}, inplace=True)"
   ]
  },
  {
   "cell_type": "code",
   "execution_count": 18,
   "metadata": {},
   "outputs": [],
   "source": [
    "df_dr2.rename(columns={'dr2_source_id': 'source_id'}, inplace=True)\n",
    "df_dr2.drop_duplicates('source_id', keep='first', inplace=True)"
   ]
  },
  {
   "cell_type": "code",
   "execution_count": 19,
   "metadata": {},
   "outputs": [],
   "source": [
    "labels_df = labels_df.merge(df_dr2, on='source_id', how='left')"
   ]
  },
  {
   "cell_type": "code",
   "execution_count": 20,
   "metadata": {},
   "outputs": [
    {
     "data": {
      "text/html": [
       "<div>\n",
       "<style scoped>\n",
       "    .dataframe tbody tr th:only-of-type {\n",
       "        vertical-align: middle;\n",
       "    }\n",
       "\n",
       "    .dataframe tbody tr th {\n",
       "        vertical-align: top;\n",
       "    }\n",
       "\n",
       "    .dataframe thead th {\n",
       "        text-align: right;\n",
       "    }\n",
       "</style>\n",
       "<table border=\"1\" class=\"dataframe\">\n",
       "  <thead>\n",
       "    <tr style=\"text-align: right;\">\n",
       "      <th></th>\n",
       "      <th>Cat</th>\n",
       "      <th>source_id</th>\n",
       "      <th>dr3_source_id</th>\n",
       "    </tr>\n",
       "  </thead>\n",
       "  <tbody>\n",
       "    <tr>\n",
       "      <th>0</th>\n",
       "      <td>M</td>\n",
       "      <td>3400904642850801792</td>\n",
       "      <td>3400904642850801792</td>\n",
       "    </tr>\n",
       "    <tr>\n",
       "      <th>1</th>\n",
       "      <td>M</td>\n",
       "      <td>3398880716823578368</td>\n",
       "      <td>3398880716823578368</td>\n",
       "    </tr>\n",
       "    <tr>\n",
       "      <th>2</th>\n",
       "      <td>M</td>\n",
       "      <td>3398822751945120128</td>\n",
       "      <td>3398822751945120128</td>\n",
       "    </tr>\n",
       "    <tr>\n",
       "      <th>3</th>\n",
       "      <td>M</td>\n",
       "      <td>3350097928520768640</td>\n",
       "      <td>3350097928520768640</td>\n",
       "    </tr>\n",
       "    <tr>\n",
       "      <th>4</th>\n",
       "      <td>M</td>\n",
       "      <td>3398557735283620224</td>\n",
       "      <td>3398557735283620224</td>\n",
       "    </tr>\n",
       "    <tr>\n",
       "      <th>...</th>\n",
       "      <td>...</td>\n",
       "      <td>...</td>\n",
       "      <td>...</td>\n",
       "    </tr>\n",
       "    <tr>\n",
       "      <th>15657</th>\n",
       "      <td>I</td>\n",
       "      <td>4146600472558819200</td>\n",
       "      <td>4146600472556852864</td>\n",
       "    </tr>\n",
       "    <tr>\n",
       "      <th>15658</th>\n",
       "      <td>I</td>\n",
       "      <td>4146598818993604480</td>\n",
       "      <td>4146598818993604480</td>\n",
       "    </tr>\n",
       "    <tr>\n",
       "      <th>15659</th>\n",
       "      <td>I</td>\n",
       "      <td>4146600399547025280</td>\n",
       "      <td>4146600399547025280</td>\n",
       "    </tr>\n",
       "    <tr>\n",
       "      <th>15660</th>\n",
       "      <td>M</td>\n",
       "      <td>5940106793062992128</td>\n",
       "      <td>5940106793062992128</td>\n",
       "    </tr>\n",
       "    <tr>\n",
       "      <th>15661</th>\n",
       "      <td>M</td>\n",
       "      <td>5940106002789009536</td>\n",
       "      <td>5940106002789009536</td>\n",
       "    </tr>\n",
       "  </tbody>\n",
       "</table>\n",
       "<p>15662 rows × 3 columns</p>\n",
       "</div>"
      ],
      "text/plain": [
       "      Cat            source_id        dr3_source_id\n",
       "0       M  3400904642850801792  3400904642850801792\n",
       "1       M  3398880716823578368  3398880716823578368\n",
       "2       M  3398822751945120128  3398822751945120128\n",
       "3       M  3350097928520768640  3350097928520768640\n",
       "4       M  3398557735283620224  3398557735283620224\n",
       "...    ..                  ...                  ...\n",
       "15657   I  4146600472558819200  4146600472556852864\n",
       "15658   I  4146598818993604480  4146598818993604480\n",
       "15659   I  4146600399547025280  4146600399547025280\n",
       "15660   M  5940106793062992128  5940106793062992128\n",
       "15661   M  5940106002789009536  5940106002789009536\n",
       "\n",
       "[15662 rows x 3 columns]"
      ]
     },
     "execution_count": 20,
     "metadata": {},
     "output_type": "execute_result"
    }
   ],
   "source": [
    "labels_df"
   ]
  },
  {
   "cell_type": "code",
   "execution_count": 21,
   "metadata": {},
   "outputs": [],
   "source": [
    "labels_df.drop('source_id', axis=1, inplace=True)\n",
    "labels_df.rename(columns={'dr3_source_id': 'source_id'}, inplace=True)"
   ]
  },
  {
   "cell_type": "code",
   "execution_count": 22,
   "metadata": {},
   "outputs": [],
   "source": [
    "df = df.merge(labels_df, on='source_id', how='left')"
   ]
  },
  {
   "cell_type": "code",
   "execution_count": 23,
   "metadata": {},
   "outputs": [
    {
     "data": {
      "text/plain": [
       "Cat\n",
       "M    12508\n",
       "I     1320\n",
       "L      224\n",
       "H      109\n",
       "Name: count, dtype: int64"
      ]
     },
     "execution_count": 23,
     "metadata": {},
     "output_type": "execute_result"
    }
   ],
   "source": [
    "df['Cat'].value_counts()"
   ]
  },
  {
   "cell_type": "markdown",
   "metadata": {},
   "source": [
    "## Generalize labels for all low-mass sources"
   ]
  },
  {
   "cell_type": "code",
   "execution_count": 24,
   "metadata": {},
   "outputs": [],
   "source": [
    "df.loc[df['Cat'] != 'M', 'Cat'] = 'LM'"
   ]
  },
  {
   "cell_type": "markdown",
   "metadata": {},
   "source": [
    "# Imbalanced data"
   ]
  },
  {
   "cell_type": "code",
   "execution_count": 25,
   "metadata": {},
   "outputs": [
    {
     "name": "stderr",
     "output_type": "stream",
     "text": [
      "C:\\Users\\012364\\AppData\\Local\\Temp\\ipykernel_10848\\3961546370.py:2: SettingWithCopyWarning: \n",
      "A value is trying to be set on a copy of a slice from a DataFrame\n",
      "\n",
      "See the caveats in the documentation: https://pandas.pydata.org/pandas-docs/stable/user_guide/indexing.html#returning-a-view-versus-a-copy\n",
      "  df_xp.drop(['has_rvs', 'has_xp_sampled'], axis=1, inplace=True)\n",
      "C:\\Users\\012364\\AppData\\Local\\Temp\\ipykernel_10848\\3961546370.py:4: SettingWithCopyWarning: \n",
      "A value is trying to be set on a copy of a slice from a DataFrame\n",
      "\n",
      "See the caveats in the documentation: https://pandas.pydata.org/pandas-docs/stable/user_guide/indexing.html#returning-a-view-versus-a-copy\n",
      "  df_rvs.drop(['has_rvs', 'has_xp_sampled'], axis=1, inplace=True)\n"
     ]
    }
   ],
   "source": [
    "df_xp = df[df['has_xp_sampled'] == True]\n",
    "df_xp.drop(['has_rvs', 'has_xp_sampled'], axis=1, inplace=True)\n",
    "df_rvs = df[df['has_rvs'] == True]\n",
    "df_rvs.drop(['has_rvs', 'has_xp_sampled'], axis=1, inplace=True)"
   ]
  },
  {
   "cell_type": "code",
   "execution_count": 26,
   "metadata": {},
   "outputs": [
    {
     "data": {
      "text/plain": [
       "Cat\n",
       "M     11911\n",
       "LM     1727\n",
       "Name: count, dtype: int64"
      ]
     },
     "execution_count": 26,
     "metadata": {},
     "output_type": "execute_result"
    },
    {
     "data": {
      "image/png": "[encoded data removed]",
      "text/plain": [
       "<Figure size 640x480 with 1 Axes>"
      ]
     },
     "metadata": {},
     "output_type": "display_data"
    }
   ],
   "source": [
    "df_xp['Cat'].value_counts().plot(kind='bar', title='Number of stellar objects per category', rot=0)\n",
    "df_xp['Cat'].value_counts()"
   ]
  },
  {
   "cell_type": "code",
   "execution_count": 27,
   "metadata": {},
   "outputs": [
    {
     "data": {
      "text/plain": [
       "<Axes: title={'center': 'Number of stellar objects per category'}, xlabel='Cat'>"
      ]
     },
     "execution_count": 27,
     "metadata": {},
     "output_type": "execute_result"
    },
    {
     "data": {
      "image/png": "[encoded data removed]",
      "text/plain": [
       "<Figure size 640x480 with 1 Axes>"
      ]
     },
     "metadata": {},
     "output_type": "display_data"
    }
   ],
   "source": [
    "df_rvs['Cat'].value_counts().plot(kind='bar', title='Number of stellar objects per category', rot=0)"
   ]
  },
  {
   "cell_type": "markdown",
   "metadata": {},
   "source": [
    "# Augment"
   ]
  },
  {
   "cell_type": "markdown",
   "metadata": {},
   "source": [
    "Augment with low mass stars"
   ]
  },
  {
   "cell_type": "code",
   "execution_count": 29,
   "metadata": {},
   "outputs": [],
   "source": [
    "xp_aug = parse_single_table('./queries/LM xp sampled-result.vot').to_table().to_pandas()\n",
    "xp_aug['Cat'] = 'LM'"
   ]
  },
  {
   "cell_type": "code",
   "execution_count": 53,
   "metadata": {},
   "outputs": [
    {
     "data": {
      "text/plain": [
       "Cat\n",
       "M     11909\n",
       "LM    11727\n",
       "Name: count, dtype: int64"
      ]
     },
     "execution_count": 53,
     "metadata": {},
     "output_type": "execute_result"
    },
    {
     "data": {
      "image/png": "[encoded data removed]",
      "text/plain": [
       "<Figure size 640x480 with 1 Axes>"
      ]
     },
     "metadata": {},
     "output_type": "display_data"
    }
   ],
   "source": [
    "df_xp = pd.concat([df_xp, xp_aug]).drop_duplicates(keep=False)\n",
    "df_xp.reset_index(drop=True, inplace=True)\n",
    "df_xp['Cat'].value_counts().plot(kind='bar', title='Number of stellar objects per category', rot=0)\n",
    "df_xp['Cat'].value_counts()"
   ]
  },
  {
   "cell_type": "code",
   "execution_count": 54,
   "metadata": {},
   "outputs": [],
   "source": [
    "df_xp.to_parquet('./combined/df_xp.parquet', index=False)"
   ]
  },
  {
   "cell_type": "code",
   "execution_count": 34,
   "metadata": {},
   "outputs": [
    {
     "data": {
      "text/html": [
       "<div>\n",
       "<style scoped>\n",
       "    .dataframe tbody tr th:only-of-type {\n",
       "        vertical-align: middle;\n",
       "    }\n",
       "\n",
       "    .dataframe tbody tr th {\n",
       "        vertical-align: top;\n",
       "    }\n",
       "\n",
       "    .dataframe thead th {\n",
       "        text-align: right;\n",
       "    }\n",
       "</style>\n",
       "<table border=\"1\" class=\"dataframe\">\n",
       "  <thead>\n",
       "    <tr style=\"text-align: right;\">\n",
       "      <th></th>\n",
       "      <th>source_id</th>\n",
       "      <th>teff_gspphot</th>\n",
       "      <th>logg_gspphot</th>\n",
       "      <th>mh_gspphot</th>\n",
       "      <th>spectraltype_esphs</th>\n",
       "      <th>Cat</th>\n",
       "    </tr>\n",
       "  </thead>\n",
       "  <tbody>\n",
       "    <tr>\n",
       "      <th>0</th>\n",
       "      <td>2263114441170949504</td>\n",
       "      <td>4865.234375</td>\n",
       "      <td>4.5684</td>\n",
       "      <td>-0.0214</td>\n",
       "      <td>K</td>\n",
       "      <td>LM</td>\n",
       "    </tr>\n",
       "    <tr>\n",
       "      <th>1</th>\n",
       "      <td>2263127158571260160</td>\n",
       "      <td>5982.272461</td>\n",
       "      <td>4.3054</td>\n",
       "      <td>-0.1024</td>\n",
       "      <td>F</td>\n",
       "      <td>LM</td>\n",
       "    </tr>\n",
       "    <tr>\n",
       "      <th>2</th>\n",
       "      <td>5912389792852926336</td>\n",
       "      <td>4324.676758</td>\n",
       "      <td>1.6897</td>\n",
       "      <td>-0.0400</td>\n",
       "      <td>K</td>\n",
       "      <td>LM</td>\n",
       "    </tr>\n",
       "    <tr>\n",
       "      <th>3</th>\n",
       "      <td>2263149247585066752</td>\n",
       "      <td>4633.369141</td>\n",
       "      <td>2.5195</td>\n",
       "      <td>0.1495</td>\n",
       "      <td>K</td>\n",
       "      <td>LM</td>\n",
       "    </tr>\n",
       "    <tr>\n",
       "      <th>4</th>\n",
       "      <td>2263155982093821312</td>\n",
       "      <td>5735.403809</td>\n",
       "      <td>4.3570</td>\n",
       "      <td>-0.1401</td>\n",
       "      <td>G</td>\n",
       "      <td>LM</td>\n",
       "    </tr>\n",
       "    <tr>\n",
       "      <th>...</th>\n",
       "      <td>...</td>\n",
       "      <td>...</td>\n",
       "      <td>...</td>\n",
       "      <td>...</td>\n",
       "      <td>...</td>\n",
       "      <td>...</td>\n",
       "    </tr>\n",
       "    <tr>\n",
       "      <th>195</th>\n",
       "      <td>5912966860354001152</td>\n",
       "      <td>5543.565430</td>\n",
       "      <td>4.2733</td>\n",
       "      <td>0.1274</td>\n",
       "      <td>G</td>\n",
       "      <td>LM</td>\n",
       "    </tr>\n",
       "    <tr>\n",
       "      <th>196</th>\n",
       "      <td>5912968067253956992</td>\n",
       "      <td>5330.711426</td>\n",
       "      <td>4.1237</td>\n",
       "      <td>0.0898</td>\n",
       "      <td>G</td>\n",
       "      <td>LM</td>\n",
       "    </tr>\n",
       "    <tr>\n",
       "      <th>197</th>\n",
       "      <td>2267489299154737280</td>\n",
       "      <td>4587.809082</td>\n",
       "      <td>2.6100</td>\n",
       "      <td>-0.2010</td>\n",
       "      <td>K</td>\n",
       "      <td>LM</td>\n",
       "    </tr>\n",
       "    <tr>\n",
       "      <th>198</th>\n",
       "      <td>5912461604707886976</td>\n",
       "      <td>4651.277832</td>\n",
       "      <td>2.3221</td>\n",
       "      <td>-0.2589</td>\n",
       "      <td>K</td>\n",
       "      <td>LM</td>\n",
       "    </tr>\n",
       "    <tr>\n",
       "      <th>199</th>\n",
       "      <td>2267519600147776256</td>\n",
       "      <td>4716.022461</td>\n",
       "      <td>4.5860</td>\n",
       "      <td>-0.1050</td>\n",
       "      <td>K</td>\n",
       "      <td>LM</td>\n",
       "    </tr>\n",
       "  </tbody>\n",
       "</table>\n",
       "<p>200 rows × 6 columns</p>\n",
       "</div>"
      ],
      "text/plain": [
       "               source_id  teff_gspphot  logg_gspphot  mh_gspphot  \\\n",
       "0    2263114441170949504   4865.234375        4.5684     -0.0214   \n",
       "1    2263127158571260160   5982.272461        4.3054     -0.1024   \n",
       "2    5912389792852926336   4324.676758        1.6897     -0.0400   \n",
       "3    2263149247585066752   4633.369141        2.5195      0.1495   \n",
       "4    2263155982093821312   5735.403809        4.3570     -0.1401   \n",
       "..                   ...           ...           ...         ...   \n",
       "195  5912966860354001152   5543.565430        4.2733      0.1274   \n",
       "196  5912968067253956992   5330.711426        4.1237      0.0898   \n",
       "197  2267489299154737280   4587.809082        2.6100     -0.2010   \n",
       "198  5912461604707886976   4651.277832        2.3221     -0.2589   \n",
       "199  2267519600147776256   4716.022461        4.5860     -0.1050   \n",
       "\n",
       "    spectraltype_esphs Cat  \n",
       "0                    K  LM  \n",
       "1                    F  LM  \n",
       "2                    K  LM  \n",
       "3                    K  LM  \n",
       "4                    G  LM  \n",
       "..                 ...  ..  \n",
       "195                  G  LM  \n",
       "196                  G  LM  \n",
       "197                  K  LM  \n",
       "198                  K  LM  \n",
       "199                  K  LM  \n",
       "\n",
       "[200 rows x 6 columns]"
      ]
     },
     "execution_count": 34,
     "metadata": {},
     "output_type": "execute_result"
    }
   ],
   "source": [
    "rvs_aug = parse_single_table('./queries//LM rvs-result.vot').to_table().to_pandas()\n",
    "rvs_aug['Cat'] = 'LM'\n",
    "rvs_aug"
   ]
  },
  {
   "cell_type": "code",
   "execution_count": 35,
   "metadata": {},
   "outputs": [
    {
     "data": {
      "text/plain": [
       "<Axes: title={'center': 'Number of stellar objects per category'}, xlabel='Cat'>"
      ]
     },
     "execution_count": 35,
     "metadata": {},
     "output_type": "execute_result"
    },
    {
     "data": {
      "image/png": "[encoded data removed]",
      "text/plain": [
       "<Figure size 640x480 with 1 Axes>"
      ]
     },
     "metadata": {},
     "output_type": "display_data"
    }
   ],
   "source": [
    "df_rvs = pd.concat([df_rvs, rvs_aug]).drop_duplicates(keep=False)\n",
    "df_rvs.reset_index(drop=True, inplace=True)\n",
    "df_rvs['Cat'].value_counts().plot(kind='bar', title='Number of stellar objects per category', rot=0)"
   ]
  },
  {
   "cell_type": "code",
   "execution_count": 36,
   "metadata": {},
   "outputs": [],
   "source": [
    "df_rvs.to_parquet('./combined/df_rvs.parquet', index=False)"
   ]
  },
  {
   "cell_type": "markdown",
   "metadata": {},
   "source": [
    "# Display"
   ]
  },
  {
   "cell_type": "code",
   "execution_count": null,
   "metadata": {},
   "outputs": [],
   "source": [
    "for file in glob.glob(xp_dir + '/*.vot')[:2]:\n",
    "    xp_df = parse_single_table(file).to_table().to_pandas()\n",
    "    plt.errorbar(xp_df['wavelength'], xp_df['flux'], yerr=xp_df['flux_error'], fmt='-', markersize=2, figure=plt.figure(figsize=(15, 5)))\n",
    "    plt.xlabel('Wavelength')\n",
    "    plt.ylabel('Flux')\n",
    "    plt.title('Flux vs Wavelength')\n",
    "    plt.show()"
   ]
  },
  {
   "cell_type": "code",
   "execution_count": null,
   "metadata": {},
   "outputs": [],
   "source": [
    "for file in glob.glob(rvs_dir + '/*.vot')[:2]:\n",
    "    rvs_df = parse_single_table(file).to_table().to_pandas()\n",
    "    plt.errorbar(rvs_df['wavelength'], rvs_df['flux'], yerr=rvs_df['flux_error'], fmt='o', markersize=2, figure=plt.figure(figsize=(15, 5)))\n",
    "    plt.xlabel('Wavelength')\n",
    "    plt.ylabel('Flux')\n",
    "    plt.title('Flux vs Wavelength')\n",
    "    plt.show()"
   ]
  }
 ],
 "metadata": {
  "kernelspec": {
   "display_name": ".venv",
   "language": "python",
   "name": "python3"
  },
  "language_info": {
   "codemirror_mode": {
    "name": "ipython",
    "version": 3
   },
   "file_extension": ".py",
   "mimetype": "text/x-python",
   "name": "python",
   "nbconvert_exporter": "python",
   "pygments_lexer": "ipython3",
   "version": "3.10.0"
  }
 },
 "nbformat": 4,
 "nbformat_minor": 2
}
